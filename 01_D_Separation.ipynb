{
 "cells": [
  {
   "cell_type": "markdown",
   "metadata": {},
   "source": [
    "Przed oddaniem zadania upewnij się, że wszystko działa poprawnie.\n",
    "**Uruchom ponownie kernel** (z paska menu: Kernel$\\rightarrow$Restart) a następnie\n",
    "**wykonaj wszystkie komórki** (z paska menu: Cell$\\rightarrow$Run All).\n",
    "\n",
    "Upewnij się, że wypełniłeś wszystkie pola `TU WPISZ KOD` lub `TU WPISZ ODPOWIEDŹ`, oraz\n",
    "że podałeś swoje imię i nazwisko poniżej:\n"
   ]
  },
  {
   "cell_type": "code",
   "execution_count": 4,
   "metadata": {},
   "outputs": [],
   "source": [
    "NAME = \"Piotr Durniat\""
   ]
  },
  {
   "cell_type": "markdown",
   "metadata": {},
   "source": [
    "---\n"
   ]
  },
  {
   "cell_type": "code",
   "execution_count": 5,
   "metadata": {},
   "outputs": [],
   "source": [
    "import itertools\n",
    "import pickle\n",
    "from typing import List, Optional, Tuple, Union\n",
    "\n",
    "import matplotlib.pyplot as plt\n",
    "import networkx as nx\n",
    "import numpy as np\n",
    "import pandas as pd"
   ]
  },
  {
   "cell_type": "markdown",
   "metadata": {},
   "source": [
    "# D-separacja\n"
   ]
  },
  {
   "cell_type": "markdown",
   "metadata": {},
   "source": [
    "W trakcie ostatniej listy zadań wspomnieliśmy o tzw. **d-separowalności** zmiennych losowych (wierzchołków) w modelach graficznych. Dla zmiennych losowych $X, Y, Z$, jeśli $X$ oraz $Y$ są **d-separowalne** podczas obserwacji zmiennej $Z$, to $X$ i $Y$ są **niezależne warunkowo** pod warunkiem $Z$ - oznaczamy to jako $X \\perp Y | Z$.\n"
   ]
  },
  {
   "cell_type": "markdown",
   "metadata": {},
   "source": [
    "**Definicja d-separowalności**\n",
    "\n",
    "Zmienne $X$ oraz $Y$ są d-separowalne podczas obserwacji $Z$, jeśli **wszystkie** ścieżki z wierzchołka $X$ do wierzchołka $Y$ są **zablokowane**.\n"
   ]
  },
  {
   "cell_type": "markdown",
   "metadata": {},
   "source": [
    "**Definicja zablokowanej ścieżki**\n",
    "\n",
    "Ścieżka między dwoma wierzchołkami jest **zablokowana względem $C$**, gdzie $C$ to zbiór zmiennych obserwowanych, jeśli ścieżka przechodzi przez wierzchołek $v$, w taki sposób że (jedna z opcji):\n",
    "\n",
    "- połączenie jest typu **head-tail** lub **tail-tail** oraz $v \\in C$,\n",
    "- połączenie jest typu **head-head** oraz $v \\notin C$ oraz żaden z **potomków $v$ nie należy do $C$**\n"
   ]
  },
  {
   "cell_type": "markdown",
   "metadata": {},
   "source": [
    "![](assets/d_sep.png)\n"
   ]
  },
  {
   "cell_type": "markdown",
   "metadata": {},
   "source": [
    "# Przykład\n"
   ]
  },
  {
   "cell_type": "code",
   "execution_count": 6,
   "metadata": {},
   "outputs": [],
   "source": [
    "def get_graph():\n",
    "    G = nx.DiGraph()\n",
    "    G.add_edges_from([(1, 3), (2, 3), (3, 4), (3, 8), (4, 6), (5, 6), (6, 7)])\n",
    "\n",
    "    G.node_pos = {\n",
    "        1: (0, 0),\n",
    "        2: (2, 0),\n",
    "        3: (1, -1),\n",
    "        5: (-2, -2),\n",
    "        4: (0, -2),\n",
    "        8: (2, -2),\n",
    "        6: (-1, -3),\n",
    "        7: (-1, -5),\n",
    "    }\n",
    "\n",
    "    return G\n",
    "\n",
    "\n",
    "def visualize(G, C):\n",
    "    colors = [\"gray\" if v in C else \"red\" for v in G.nodes()]\n",
    "    nx.draw(G, with_labels=True, node_color=colors, pos=G.node_pos, node_size=2000)"
   ]
  },
  {
   "cell_type": "markdown",
   "metadata": {},
   "source": [
    "Zbiór $C$ jest również zwany **zbiorem warunkującym** (ang. _conditioning_set_). Tutaj $C = \\{3\\}$.\n"
   ]
  },
  {
   "cell_type": "code",
   "execution_count": 7,
   "metadata": {},
   "outputs": [
    {
     "data": {
      "image/png": "[encoded data removed]",
      "text/plain": [
       "<Figure size 640x480 with 1 Axes>"
      ]
     },
     "metadata": {},
     "output_type": "display_data"
    }
   ],
   "source": [
    "graph = get_graph()\n",
    "conditioning_set = {3}\n",
    "\n",
    "visualize(G=graph, C=conditioning_set)"
   ]
  },
  {
   "cell_type": "markdown",
   "metadata": {},
   "source": [
    "Poszukajmy zależności **head-tail** - przykłady:\n",
    "\n",
    "- **\"1 -> 3 -> 4\"**, widzimy, że $3 \\in C$, zatem \"1\" oraz \"4\" są d-separowalne\n",
    "- taka sama sytuacja jest w przypadku **\"2 -> 3 -> 8\"**, **\"1 -> 3 -> 8\"** oraz **\"2 -> 3 -> 4\"**\n",
    "- dla ścieżki **\"4 -> 6 -> 7\"** widzimy, że $6 \\notin C$ zatem \"4\" i \"7\" nie są d-separowalne\n",
    "- analogiczny brak d-separowalności widzimy dla ścieżki: **\"5 -> 6 -> 7\"**\n",
    "\n",
    "Dla relacji **tail-tail** w tym modelu (grafie) mamy tylko jeden przykład: **\"4 <- 3 -> 8\"**. Skoro $3 \\in C$ to zmienne \"4\" oraz \"8\" są d-separowalne.\n",
    "\n",
    "W przypadku relacji **head-head** mamy tylko dwie takie trójki:\n",
    "\n",
    "- **\"1 -> 3 <- 2\"** - brak d-separowalności\n",
    "- **\"5 -> 6 <- 4\"** - \"5\" oraz \"4\" są d-separowalne, ponieważ $6 \\notin C$ oraz żaden potomek (tutaj: \"7\") również nie należy do $C$\n"
   ]
  },
  {
   "cell_type": "markdown",
   "metadata": {},
   "source": [
    "# Uwaga\n",
    "\n",
    "Dotychczas rozważaliśmy tylko trójki zmiennych/wierzchołków (tzn. ścieżki o długości 3), jednak możemy sprawdzać d-separowalność między bardziej oddalonymi wierzchołkami. Musimy wtedy sprawdzić, czy **każda ścieżka** między nimi zawiera **zablokowaną trójkę** (korzystając z reguł head-head, head-tail lub tail-tail).\n"
   ]
  },
  {
   "cell_type": "markdown",
   "metadata": {},
   "source": [
    "# Zadania\n"
   ]
  },
  {
   "cell_type": "markdown",
   "metadata": {},
   "source": [
    "## Zadanie 1 (0.75 + 0.25 pkt)\n",
    "\n",
    "Zaimplementuj funkcję **is_blocking_triple**, która dla dowolnych 3 wierzchołków (zmiennych losowych) sprawdzi czy tworzą ścieżkę blokującą.\n",
    "\n",
    "Podpowiedzi:\n",
    "\n",
    "- użyj metody `has_edge()` klasy `nx.Graph`, aby sprawdzić czy graf posiada połączenie (krawędź) między węzłami\n",
    "- użyj funkcji `nx.descendants()`, aby wyznaczyć potomków dane wierzchołka\n"
   ]
  },
  {
   "cell_type": "code",
   "execution_count": 8,
   "metadata": {
    "deletable": false,
    "nbgrader": {
     "cell_type": "code",
     "checksum": "4756b6a82258da05d7e8d4d955468e3c",
     "grade": true,
     "grade_id": "is-blocking-triple",
     "locked": false,
     "points": 0.75,
     "schema_version": 3,
     "solution": true,
     "task": false
    }
   },
   "outputs": [],
   "source": [
    "Node = int\n",
    "\n",
    "\n",
    "def is_blocking_triple(\n",
    "    x: Node,\n",
    "    v: Node,\n",
    "    y: Node,\n",
    "    G: nx.Graph,\n",
    "    C: set,\n",
    ") -> bool:\n",
    "    \"\"\"\n",
    "    Checks if the triple x - v - y is a blocking triple against the conditioning set C in the graph G.\n",
    "    \"\"\"\n",
    "\n",
    "    if is_head_tail_triple(x, v, y, G):\n",
    "        return v in C\n",
    "\n",
    "    if is_tail_tail_triple(x, v, y, G):\n",
    "        return v in C\n",
    "\n",
    "    if is_head_head_triple(x, v, y, G):\n",
    "        return v not in C and descendants(G, v).isdisjoint(C)\n",
    "\n",
    "    return False\n",
    "\n",
    "\n",
    "def is_head_tail_triple(x: Node, v: Node, y: Node, G: nx.Graph) -> bool:\n",
    "    # x -> v -> y or y -> v -> x\n",
    "    return (G.has_edge(x, v) and G.has_edge(v, y)) or (\n",
    "        G.has_edge(y, v) and G.has_edge(v, x)\n",
    "    )\n",
    "\n",
    "\n",
    "def is_tail_tail_triple(x: Node, v: Node, y: Node, G: nx.Graph) -> bool:\n",
    "    # x <- v -> y\n",
    "    return G.has_edge(v, x) and G.has_edge(v, y)\n",
    "\n",
    "\n",
    "def is_head_head_triple(x: Node, v: Node, y: Node, G: nx.Graph) -> bool:\n",
    "    # x -> v <- y\n",
    "    return G.has_edge(x, v) and G.has_edge(y, v)\n",
    "\n",
    "\n",
    "def descendants(G: nx.Graph, v: Node) -> set:\n",
    "    return set(nx.descendants(G, v))"
   ]
  },
  {
   "cell_type": "markdown",
   "metadata": {},
   "source": [
    "Sprawdźmy czy funkcja działa dla powyższego przykładu:\n"
   ]
  },
  {
   "cell_type": "code",
   "execution_count": 47,
   "metadata": {
    "deletable": false,
    "editable": false,
    "nbgrader": {
     "cell_type": "code",
     "checksum": "1f34eec8f20bae4994bf23b2174814a9",
     "grade": true,
     "grade_id": "is-blocking-triple-tests",
     "locked": true,
     "points": 0.25,
     "schema_version": 3,
     "solution": false,
     "task": false
    }
   },
   "outputs": [],
   "source": [
    "assert is_blocking_triple(x=1, v=3, y=4, G=graph, C=conditioning_set)\n",
    "\n",
    "expected_blocked_triples = [\n",
    "    # Head-tail\n",
    "    (1, 3, 4),\n",
    "    (1, 3, 8),\n",
    "    (2, 3, 4),\n",
    "    (2, 3, 8),\n",
    "    # Tail-tail\n",
    "    (4, 3, 8),\n",
    "    # Head-head\n",
    "    (5, 6, 4),\n",
    "]\n",
    "\n",
    "assert all(\n",
    "    is_blocking_triple(\n",
    "        x=t[0],\n",
    "        v=t[1],\n",
    "        y=t[2],\n",
    "        G=graph,\n",
    "        C=conditioning_set,\n",
    "    )\n",
    "    for x, v, y in expected_blocked_triples\n",
    "    for t in ((x, v, y), (y, v, x))\n",
    ")\n",
    "\n",
    "expected_non_blocked_triples = [\n",
    "    # Head-tail\n",
    "    (4, 6, 7),\n",
    "    (5, 6, 7),\n",
    "    # Head-head\n",
    "    (1, 3, 2),\n",
    "]\n",
    "\n",
    "assert all(\n",
    "    not is_blocking_triple(\n",
    "        x=t[0],\n",
    "        v=t[1],\n",
    "        y=t[2],\n",
    "        G=graph,\n",
    "        C=conditioning_set,\n",
    "    )\n",
    "    for x, v, y in expected_non_blocked_triples\n",
    "    for t in ((x, v, y), (y, v, x))\n",
    ")"
   ]
  },
  {
   "cell_type": "markdown",
   "metadata": {},
   "source": [
    "Zaimplementujmy funkcję, która dla podanego grafu $G$ oraz zbioru warunkującego $C$ wyznaczy wszystkie zablokowane trójki:\n"
   ]
  },
  {
   "cell_type": "code",
   "execution_count": 55,
   "metadata": {},
   "outputs": [],
   "source": [
    "def get_all_blocking_triples(\n",
    "    G: nx.Graph,\n",
    "    C: set,\n",
    ") -> List[Tuple[Node, Node, Node]]:\n",
    "    blocking_triples = []\n",
    "\n",
    "    for x, v, y in sorted(itertools.permutations(G.nodes(), r=3)):\n",
    "        if is_blocking_triple(x=x, v=v, y=y, G=G, C=C):\n",
    "            blocking_triples.append((x, v, y))\n",
    "\n",
    "    return blocking_triples"
   ]
  },
  {
   "cell_type": "code",
   "execution_count": 56,
   "metadata": {},
   "outputs": [
    {
     "name": "stdout",
     "output_type": "stream",
     "text": [
      "Number of blocking triples: 12\n"
     ]
    },
    {
     "data": {
      "text/plain": [
       "[(1, 3, 4),\n",
       " (1, 3, 8),\n",
       " (2, 3, 4),\n",
       " (2, 3, 8),\n",
       " (4, 3, 1),\n",
       " (4, 3, 2),\n",
       " (4, 3, 8),\n",
       " (4, 6, 5),\n",
       " (5, 6, 4),\n",
       " (8, 3, 1),\n",
       " (8, 3, 2),\n",
       " (8, 3, 4)]"
      ]
     },
     "execution_count": 56,
     "metadata": {},
     "output_type": "execute_result"
    }
   ],
   "source": [
    "blocking_triples = get_all_blocking_triples(G=graph, C=conditioning_set)\n",
    "\n",
    "print(\"Number of blocking triples:\", len(blocking_triples))\n",
    "\n",
    "blocking_triples"
   ]
  },
  {
   "cell_type": "markdown",
   "metadata": {},
   "source": [
    "## Zadanie 2 (0.75 + 0.25 pkt)\n",
    "\n",
    "Zaimplementuj funkcję **is_d_separable**, która dla dowolnych dwóch wierzchołków $x$ oraz $y$ sprawdzi czy są one d-separowalne. Odległość między tymi wierzchołkami w grafie może być większa niż 3, musimy sprawdzić czy wszystkie ścieżki między tymi wierzchołkami są zablokowane.\n",
    "\n",
    "**Uwaga** Nie rozważamy d-separowalności w przypadku kiedy (zwróć wtedy `\"N/A\"`):\n",
    "\n",
    "- wierzchołki są bezpośrednio połączone\n",
    "- jeden z wierzchołków jest obserwowany\n",
    "\n",
    "Wykorzystaj podaną funkcję `get_all_paths()` do wyznaczenia wszystkich ścieżek między wierzchołkami.\n"
   ]
  },
  {
   "cell_type": "code",
   "execution_count": null,
   "metadata": {},
   "outputs": [],
   "source": [
    "def get_all_paths(G: nx.Graph, x: Node, y: Node) -> List[List[Node]]:\n",
    "    return list(nx.all_simple_paths(G=nx.Graph(G), source=x, target=y))"
   ]
  },
  {
   "cell_type": "code",
   "execution_count": null,
   "metadata": {},
   "outputs": [],
   "source": [
    "get_all_paths(G=graph, x=3, y=7)"
   ]
  },
  {
   "cell_type": "code",
   "execution_count": null,
   "metadata": {
    "deletable": false,
    "nbgrader": {
     "cell_type": "code",
     "checksum": "a2e5ee3c896bd96b87a007fc48c1c013",
     "grade": true,
     "grade_id": "is-d-separable",
     "locked": false,
     "points": 0.75,
     "schema_version": 3,
     "solution": true,
     "task": false
    }
   },
   "outputs": [],
   "source": [
    "def is_d_separable(\n",
    "    x: Node,\n",
    "    y: Node,\n",
    "    G: nx.Graph,\n",
    "    C: set,\n",
    "    blocking_triples: Optional[List[List[Node]]] = None,\n",
    ") -> Union[str, bool]:\n",
    "    \"\"\"Checks if `x` and `y` are d-separable given C.\n",
    "\n",
    "    If d-separation is not applicable return 'N/A',\n",
    "    otherwise return True/False, denoting whether\n",
    "    variables are d-separable or not.\n",
    "    \"\"\"\n",
    "    # TU WPISZ KOD\n",
    "    raise NotImplementedError()"
   ]
  },
  {
   "cell_type": "markdown",
   "metadata": {},
   "source": [
    "Wyznaczmy d-separowalność dla wszystkich par wierzchołków:\n"
   ]
  },
  {
   "cell_type": "code",
   "execution_count": null,
   "metadata": {},
   "outputs": [],
   "source": [
    "def check_d_separability_for_all_node_pairs(G, C, d_sep_fn):\n",
    "    records = []\n",
    "\n",
    "    for x, y in sorted(itertools.permutations(G.nodes(), r=2)):\n",
    "        records.append(\n",
    "            {\n",
    "                \"x\": x,\n",
    "                \"y\": y,\n",
    "                \"d_sep\": d_sep_fn(x=x, y=y, G=G, C=C),\n",
    "            }\n",
    "        )\n",
    "\n",
    "    return pd.DataFrame.from_records(records)\n",
    "\n",
    "\n",
    "df = check_d_separability_for_all_node_pairs(\n",
    "    G=graph,\n",
    "    C=conditioning_set,\n",
    "    d_sep_fn=is_d_separable,\n",
    ")"
   ]
  },
  {
   "cell_type": "markdown",
   "metadata": {},
   "source": [
    "Pary d-separowalne:\n"
   ]
  },
  {
   "cell_type": "code",
   "execution_count": null,
   "metadata": {},
   "outputs": [],
   "source": [
    "df[df.d_sep == True]"
   ]
  },
  {
   "cell_type": "markdown",
   "metadata": {},
   "source": [
    "Pary nie d-separowalne:\n"
   ]
  },
  {
   "cell_type": "code",
   "execution_count": null,
   "metadata": {},
   "outputs": [],
   "source": [
    "df[df.d_sep == False]"
   ]
  },
  {
   "cell_type": "markdown",
   "metadata": {},
   "source": [
    "Sytuacje nieokreślone:\n"
   ]
  },
  {
   "cell_type": "code",
   "execution_count": null,
   "metadata": {},
   "outputs": [],
   "source": [
    "df[df.d_sep == \"N/A\"]"
   ]
  },
  {
   "cell_type": "markdown",
   "metadata": {},
   "source": [
    "## Testy automatyczne\n"
   ]
  },
  {
   "cell_type": "code",
   "execution_count": null,
   "metadata": {
    "deletable": false,
    "editable": false,
    "nbgrader": {
     "cell_type": "code",
     "checksum": "a9aed4aab626fa1980a4142c1dcda534",
     "grade": true,
     "grade_id": "is-d-separable-tests",
     "locked": true,
     "points": 0.25,
     "schema_version": 3,
     "solution": false,
     "task": false
    }
   },
   "outputs": [],
   "source": [
    "def check(graph, conditioning_set, d_sep_fn, expected_df_path):\n",
    "    actual_df = check_d_separability_for_all_node_pairs(\n",
    "        G=graph,\n",
    "        C=conditioning_set,\n",
    "        d_sep_fn=d_sep_fn,\n",
    "    )\n",
    "\n",
    "    with open(expected_df_path, \"rb\") as fin:\n",
    "        expected_df = pickle.load(fin)\n",
    "\n",
    "    num_errors = 0\n",
    "\n",
    "    for (_, exp_row), act_d_sep in zip(expected_df.iterrows(), actual_df.d_sep):\n",
    "        if exp_row.d_sep != act_d_sep:\n",
    "            print(\n",
    "                f\"* Error for ({exp_row.v1}, {exp_row.v2})\\n\"\n",
    "                f\"\\tExpected: {exp_row.d_sep}\\n\"\n",
    "                f\"\\tGot: {act_d_sep}\"\n",
    "            )\n",
    "            num_errors += 1\n",
    "\n",
    "    if num_errors > 0:\n",
    "        total_rows = expected_df.shape[0]\n",
    "        error_rate = np.round(num_errors / total_rows * 100, 2)\n",
    "        print(f\"Error rate: {num_errors}/{total_rows} -> {error_rate}%\")\n",
    "    else:\n",
    "        print(\"No errors found! Passed\")\n",
    "\n",
    "\n",
    "check(\n",
    "    graph=get_graph(),\n",
    "    conditioning_set={7},\n",
    "    d_sep_fn=is_d_separable,\n",
    "    expected_df_path=\"data/dsep/first-c7.pkl\",\n",
    ")\n",
    "\n",
    "check(\n",
    "    graph=get_graph(),\n",
    "    conditioning_set={3, 7},\n",
    "    d_sep_fn=is_d_separable,\n",
    "    expected_df_path=\"data/dsep/first-c37.pkl\",\n",
    ")\n",
    "\n",
    "second_graph = graph.copy()\n",
    "second_graph.add_edge(1, 5)\n",
    "\n",
    "check(\n",
    "    graph=second_graph,\n",
    "    conditioning_set={6},\n",
    "    d_sep_fn=is_d_separable,\n",
    "    expected_df_path=\"data/dsep/second-c6.pkl\",\n",
    ")\n",
    "\n",
    "second_graph = graph.copy()\n",
    "second_graph.add_edge(1, 5)\n",
    "\n",
    "check(\n",
    "    graph=second_graph,\n",
    "    conditioning_set={3, 6},\n",
    "    d_sep_fn=is_d_separable,\n",
    "    expected_df_path=\"data/dsep/second-c36.pkl\",\n",
    ")"
   ]
  },
  {
   "cell_type": "code",
   "execution_count": null,
   "metadata": {
    "deletable": false,
    "nbgrader": {
     "cell_type": "code",
     "checksum": "0407a71861872c17149235a61abe6d76",
     "grade": true,
     "grade_id": "omit",
     "locked": false,
     "points": 0,
     "schema_version": 3,
     "solution": true,
     "task": false
    }
   },
   "outputs": [],
   "source": [
    "# TU WPISZ KOD\n",
    "raise NotImplementedError()"
   ]
  }
 ],
 "metadata": {
  "kernelspec": {
   "display_name": "Python 3",
   "language": "python",
   "name": "python3"
  },
  "language_info": {
   "codemirror_mode": {
    "name": "ipython",
    "version": 3
   },
   "file_extension": ".py",
   "mimetype": "text/x-python",
   "name": "python",
   "nbconvert_exporter": "python",
   "pygments_lexer": "ipython3",
   "version": "3.12.0"
  }
 },
 "nbformat": 4,
 "nbformat_minor": 4
}
