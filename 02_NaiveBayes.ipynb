{
    "cells": [
        {
            "cell_type": "markdown",
            "metadata": {},
            "source": [
                "Przed oddaniem zadania upewnij się, że wszystko działa poprawnie.\n",
                "**Uruchom ponownie kernel** (z paska menu: Kernel$\\rightarrow$Restart) a następnie\n",
                "**wykonaj wszystkie komórki** (z paska menu: Cell$\\rightarrow$Run All).\n",
                "\n",
                "Upewnij się, że wypełniłeś wszystkie pola `TU WPISZ KOD` lub `TU WPISZ ODPOWIEDŹ`, oraz\n",
                "że podałeś swoje imię i nazwisko poniżej:\n"
            ]
        },
        {
            "cell_type": "code",
            "execution_count": 1,
            "metadata": {},
            "outputs": [],
            "source": [
                "NAME = \"Piotr Durniat\""
            ]
        },
        {
            "cell_type": "markdown",
            "metadata": {},
            "source": [
                "---\n"
            ]
        },
        {
            "cell_type": "markdown",
            "metadata": {},
            "source": [
                "# Naiwny Bayes\n"
            ]
        },
        {
            "cell_type": "markdown",
            "metadata": {},
            "source": [
                "Model Naiwnego Bayesa jest jednym z najprostszych modeli grafowych. Zakłada on, że wszystkie obserwowane zmienne $X_1, X_2, \\ldots, X_N$ są warunkowo niezależne względem zmiennej $Y$ oraz, że jedyna zależność istnieje między zmienną $Y$ a zmiennymi $\\mathbf{X}$ (zobacz rysunek).\n"
            ]
        },
        {
            "cell_type": "code",
            "execution_count": 2,
            "metadata": {},
            "outputs": [
                {
                    "data": {
                        "image/png": "[encoded data removed]",
                        "text/plain": [
                            "<Figure size 640x480 with 1 Axes>"
                        ]
                    },
                    "metadata": {},
                    "output_type": "display_data"
                }
            ],
            "source": [
                "import networkx as nx\n",
                "\n",
                "g = nx.DiGraph()\n",
                "g.add_edges_from([(\"Y\", \"X_1\"), (\"Y\", \"X_2\"), (\"Y\", \"$X_{N-1}$\"), (\"Y\", \"$X_N$\")])\n",
                "\n",
                "nx.draw(\n",
                "    g,\n",
                "    with_labels=True,\n",
                "    node_color=[\"gray\" if \"X\" in v else \"white\" for v in g.nodes()],\n",
                "    pos={\n",
                "        \"Y\": (0, 0),\n",
                "        \"X_1\": (-2, -1),\n",
                "        \"X_2\": (-1, -1),\n",
                "        \"$X_{N-1}$\": (1, -1),\n",
                "        \"$X_N$\": (2, -1),\n",
                "    },\n",
                "    edgecolors=\"black\",\n",
                "    node_size=2000,\n",
                ")"
            ]
        },
        {
            "cell_type": "markdown",
            "metadata": {},
            "source": [
                "## Naiwny klasyfikator Bayesa\n"
            ]
        },
        {
            "cell_type": "markdown",
            "metadata": {},
            "source": [
                "Naszym celem będzie rozwiązać zadanie klasyfikacji, gdzie klasa będzie reprezentowana przez zmienną $Y$ (zakładamy, że istnieje $K$ klas), natomiast atrybuty opisujące dane instancje to $X_1, X_2, \\ldots, X_N$ (wartości te mogą być zarówno ciągłe, jak i dyskretne).\n",
                "\n",
                "Dla konkretnej instancji opisanej $x_1, x_2, \\ldots, x_N$ poszukujemy jej rzeczywistej klasy $\\hat y$, którą uzyskujemy maksymalizując prawdopodobieństwo warunkowe klasy $y_k$ pod warunkiem danych $x_1, x_2, \\ldots, x_N$:\n",
                "\n",
                "$$\\tag{1}\\hat{y} = \\operatorname*{argmax}_{k \\in \\{1, 2, \\ldots, K\\}} \\mathbb{P}(y_k | x_1, x_2, \\ldots, x_N)$$\n"
            ]
        },
        {
            "cell_type": "markdown",
            "metadata": {},
            "source": [
                "Wykorzystując regułę Bayesa możemy to prawdopodobieństwo rozpisać jako:\n",
                "\n",
                "$$\\mathbb{P}(y_k|x_1, x_2, \\ldots, x_N) = \\frac{\\mathbb{P}(y_k)\\mathbb{P}(x_1, x_2, \\ldots, x_N | y_k)}{\\mathbb{P}(x_1, x_2, \\ldots, x_N)}$$\n",
                "\n",
                "Licznik tego ułamka możemy zapisać jako prawdopodbieństwo łączne:\n",
                "\n",
                "$$\\tag{2}\\mathbb{P}(y_k)\\mathbb{P}(x_1, x_2, \\ldots, x_N | y_k) = \\mathbb{P}(y_k, x_1, x_2, \\ldots, x_N)$$\n",
                "\n",
                "Dodatkowo możemy pominąć mianownik i zapisać, że prawdopodobieństwo $\\text{(1)}$ jest proporcjonalne do $\\text{(2)}$:\n",
                "\n",
                "$$\\mathbb{P}(y_k|x_1, x_2, \\ldots, x_N) \\propto \\mathbb{P}(y_k, x_1, x_2, \\ldots, x_N)$$\n",
                "\n",
                "Korzystając wielokrotnie z reguły łańcuchowej możemy dokonać faktoryzacji prawdopodobieństwa łącznego:\n",
                "\n",
                "$$\n",
                "\\tag{3}\n",
                "\\begin{align}\n",
                "\\mathbb{P}(y_k, x_1, x_2, \\ldots, x_N) & = \\mathbb{P}(x_1, x_2, \\ldots, x_N, y_k)\\\\\n",
                "& = \\mathbb{P}(x_1 | x_2, \\ldots, x_N, y_k)\\mathbb{P}(x_2, \\ldots, x_N, y_k) \\\\\n",
                "& \\ldots \\\\\n",
                "& = \\mathbb{P}(x_1 | x_2, \\ldots, x_N, y_k)\\mathbb{P}(x_2 | \\ldots, x_N, y_k) \\ldots \\mathbb{P}(x_{N-1}|x_N, y_k) \\mathbb{P}(x_N | y_k)\\mathbb{P}(y_k)\n",
                "\\end{align}\n",
                "$$\n",
                "\n",
                "\"Naiwność\" tego modelu zakłada, że zmienne $X_1, \\ldots, X_N$ są niezależne pod warunkiem $Y$, stąd:\n",
                "\n",
                "$$\\tag{4}\\mathbb{P}(x_i | x_{i+1}, x_{i+2}, \\ldots, x_N, y_k) = \\mathbb{P}(x_i|y_k)$$\n",
                "\n",
                "Aplikując $\\text{(4)}$ do $\\text{(3)}$ otrzymujemy:\n",
                "\n",
                "$$\\mathbb{P}(y_k|x_1, x_2, \\ldots, x_N) \\propto \\mathbb{P}(y_k, x_1, x_2, \\ldots, x_N) = \\mathbb{P}(y_k)\\mathbb{P}(x_1|y_k)\\mathbb{P}(x_2|y_k)\\ldots\\mathbb{P}(x_N|y_k) = \\mathbb{P}(y_k)\\prod_{i=1}^{N}\\mathbb{P}(x_i|y_k)$$\n",
                "\n",
                "$$\\mathbb{P}(y_k|x_1, x_2, \\ldots, x_N) \\propto \\mathbb{P}(y_k)\\prod_{i=1}^{N}\\mathbb{P}(x_i|y_k)$$\n",
                "\n",
                "Ostatecznie otrzymujemy:\n",
                "\n",
                "$$\\hat y = \\operatorname*{argmax}_{k \\in \\{1, 2, \\ldots, K\\}} \\mathbb{P}(y_k)\\prod_{i=1}^{N}\\mathbb{P}(x_i|y_k)$$\n"
            ]
        },
        {
            "cell_type": "markdown",
            "metadata": {},
            "source": [
                "# Zmienne ciągłe\n",
                "\n",
                "Będziemy się tutaj posługiwać zbiorem danych Iris, który posiada tylko ciągłe atrybuty.\n"
            ]
        },
        {
            "cell_type": "code",
            "execution_count": 3,
            "metadata": {},
            "outputs": [
                {
                    "name": "stdout",
                    "output_type": "stream",
                    "text": [
                        "Full (150, 4) (150,)\n",
                        "Train (120, 4) (120,)\n",
                        "Test (30, 4) (30,)\n"
                    ]
                }
            ],
            "source": [
                "import pandas as pd\n",
                "from sklearn import datasets as sk_ds\n",
                "from sklearn import model_selection as sk_ms\n",
                "\n",
                "\n",
                "def load_iris_dataset():\n",
                "    X, y = sk_ds.load_iris(return_X_y=True)\n",
                "    X = pd.DataFrame(\n",
                "        X,\n",
                "        columns=[\n",
                "            \"sepal-length\",\n",
                "            \"sepal-width\",\n",
                "            \"petal-length\",\n",
                "            \"petal-width\",\n",
                "        ],\n",
                "    )\n",
                "\n",
                "    X_tr, X_te, y_tr, y_te = sk_ms.train_test_split(X, y, train_size=0.8, stratify=y)\n",
                "    print(\"Full\", X.shape, y.shape)\n",
                "    print(\"Train\", X_tr.shape, y_tr.shape)\n",
                "    print(\"Test\", X_te.shape, y_te.shape)\n",
                "\n",
                "    return {\n",
                "        \"train\": {\"X\": X_tr, \"y\": y_tr},\n",
                "        \"test\": {\"X\": X_te, \"y\": y_te},\n",
                "    }\n",
                "\n",
                "\n",
                "iris = load_iris_dataset()"
            ]
        },
        {
            "cell_type": "code",
            "execution_count": 4,
            "metadata": {},
            "outputs": [
                {
                    "data": {
                        "text/html": [
                            "<div>\n",
                            "<style scoped>\n",
                            "    .dataframe tbody tr th:only-of-type {\n",
                            "        vertical-align: middle;\n",
                            "    }\n",
                            "\n",
                            "    .dataframe tbody tr th {\n",
                            "        vertical-align: top;\n",
                            "    }\n",
                            "\n",
                            "    .dataframe thead th {\n",
                            "        text-align: right;\n",
                            "    }\n",
                            "</style>\n",
                            "<table border=\"1\" class=\"dataframe\">\n",
                            "  <thead>\n",
                            "    <tr style=\"text-align: right;\">\n",
                            "      <th></th>\n",
                            "      <th>sepal-length</th>\n",
                            "      <th>sepal-width</th>\n",
                            "      <th>petal-length</th>\n",
                            "      <th>petal-width</th>\n",
                            "    </tr>\n",
                            "  </thead>\n",
                            "  <tbody>\n",
                            "    <tr>\n",
                            "      <th>97</th>\n",
                            "      <td>6.2</td>\n",
                            "      <td>2.9</td>\n",
                            "      <td>4.3</td>\n",
                            "      <td>1.3</td>\n",
                            "    </tr>\n",
                            "    <tr>\n",
                            "      <th>130</th>\n",
                            "      <td>7.4</td>\n",
                            "      <td>2.8</td>\n",
                            "      <td>6.1</td>\n",
                            "      <td>1.9</td>\n",
                            "    </tr>\n",
                            "    <tr>\n",
                            "      <th>65</th>\n",
                            "      <td>6.7</td>\n",
                            "      <td>3.1</td>\n",
                            "      <td>4.4</td>\n",
                            "      <td>1.4</td>\n",
                            "    </tr>\n",
                            "    <tr>\n",
                            "      <th>71</th>\n",
                            "      <td>6.1</td>\n",
                            "      <td>2.8</td>\n",
                            "      <td>4.0</td>\n",
                            "      <td>1.3</td>\n",
                            "    </tr>\n",
                            "    <tr>\n",
                            "      <th>145</th>\n",
                            "      <td>6.7</td>\n",
                            "      <td>3.0</td>\n",
                            "      <td>5.2</td>\n",
                            "      <td>2.3</td>\n",
                            "    </tr>\n",
                            "  </tbody>\n",
                            "</table>\n",
                            "</div>"
                        ],
                        "text/plain": [
                            "     sepal-length  sepal-width  petal-length  petal-width\n",
                            "97            6.2          2.9           4.3          1.3\n",
                            "130           7.4          2.8           6.1          1.9\n",
                            "65            6.7          3.1           4.4          1.4\n",
                            "71            6.1          2.8           4.0          1.3\n",
                            "145           6.7          3.0           5.2          2.3"
                        ]
                    },
                    "execution_count": 4,
                    "metadata": {},
                    "output_type": "execute_result"
                }
            ],
            "source": [
                "iris[\"train\"][\"X\"].head()"
            ]
        },
        {
            "cell_type": "code",
            "execution_count": 5,
            "metadata": {},
            "outputs": [
                {
                    "data": {
                        "text/plain": [
                            "array([1, 2, 1, 1, 2, 2, 0, 1, 2, 2, 1, 0, 1, 1, 0, 1, 0, 2, 2, 0, 2, 2,\n",
                            "       2, 0, 1, 0, 1, 1, 0, 2, 1, 2, 2, 1, 0, 1, 1, 2, 1, 0, 2, 2, 1, 0,\n",
                            "       0, 0, 0, 2, 2, 2, 1, 0, 0, 2, 2, 0, 0, 2, 2, 0, 1, 2, 0, 1, 2, 0,\n",
                            "       1, 2, 2, 1, 1, 2, 0, 1, 0, 2, 1, 1, 1, 2, 2, 2, 0, 2, 0, 0, 2, 2,\n",
                            "       2, 1, 1, 0, 0, 0, 0, 0, 2, 1, 0, 0, 0, 0, 0, 1, 1, 1, 1, 2, 1, 2,\n",
                            "       1, 1, 1, 1, 0, 0, 1, 2, 0, 0])"
                        ]
                    },
                    "execution_count": 5,
                    "metadata": {},
                    "output_type": "execute_result"
                }
            ],
            "source": [
                "iris[\"train\"][\"y\"]"
            ]
        },
        {
            "cell_type": "markdown",
            "metadata": {},
            "source": [
                "### Implementacja w bibliotece `scikit-learn`\n",
                "\n",
                "Załóżmy, że wszystkie zmienne tutaj pochodzą z rozkładu normalnego - użyjemy klasy `GaussianNB` (model naiwnego Bayesa z rozkładami normalnymi)\n"
            ]
        },
        {
            "cell_type": "code",
            "execution_count": 6,
            "metadata": {},
            "outputs": [
                {
                    "name": "stdout",
                    "output_type": "stream",
                    "text": [
                        "train\n",
                        "              precision    recall  f1-score   support\n",
                        "\n",
                        "           0       1.00      1.00      1.00        40\n",
                        "           1       0.93      0.95      0.94        40\n",
                        "           2       0.95      0.93      0.94        40\n",
                        "\n",
                        "    accuracy                           0.96       120\n",
                        "   macro avg       0.96      0.96      0.96       120\n",
                        "weighted avg       0.96      0.96      0.96       120\n",
                        "\n",
                        "test\n",
                        "              precision    recall  f1-score   support\n",
                        "\n",
                        "           0       1.00      1.00      1.00        10\n",
                        "           1       1.00      0.90      0.95        10\n",
                        "           2       0.91      1.00      0.95        10\n",
                        "\n",
                        "    accuracy                           0.97        30\n",
                        "   macro avg       0.97      0.97      0.97        30\n",
                        "weighted avg       0.97      0.97      0.97        30\n",
                        "\n"
                    ]
                }
            ],
            "source": [
                "from sklearn.naive_bayes import GaussianNB\n",
                "from sklearn import metrics as sk_mtr\n",
                "\n",
                "\n",
                "clf_scikit = GaussianNB()\n",
                "clf_scikit.fit(X=iris[\"train\"][\"X\"], y=iris[\"train\"][\"y\"])\n",
                "\n",
                "for split in (\"train\", \"test\"):\n",
                "    print(split)\n",
                "    print(\n",
                "        sk_mtr.classification_report(\n",
                "            y_true=iris[split][\"y\"],\n",
                "            y_pred=clf_scikit.predict(X=iris[split][\"X\"]),\n",
                "        )\n",
                "    )"
            ]
        },
        {
            "cell_type": "markdown",
            "metadata": {},
            "source": [
                "### Implementacja w bibliotece `pyro`\n",
                "\n",
                "Poniżej zamieszczono przykładową implementację modelu naiwnego Baysa za pomocą biblioteki Pyro. Nie będziemy wchodzić w szczegóły, ale zachęcamy aby przeanalizować krok po kroku każdą z metod.\n"
            ]
        },
        {
            "cell_type": "code",
            "execution_count": 7,
            "metadata": {},
            "outputs": [
                {
                    "name": "stderr",
                    "output_type": "stream",
                    "text": []
                }
            ],
            "source": [
                "from pyro.params import param_store"
            ]
        },
        {
            "cell_type": "code",
            "execution_count": 8,
            "metadata": {},
            "outputs": [],
            "source": [
                "import pyro\n",
                "from pyro import distributions as dist\n",
                "import torch\n",
                "from torch.distributions import constraints\n",
                "\n",
                "pyro.enable_validation(True)\n",
                "\n",
                "\n",
                "from collections import defaultdict\n",
                "import matplotlib.pyplot as plt\n",
                "import pyro\n",
                "import torch\n",
                "from tqdm.auto import tqdm\n",
                "\n",
                "\n",
                "class GaussianNBClassifier:\n",
                "    def __init__(self, num_epochs=500, lr=1e-2):\n",
                "        self._num_epochs = num_epochs\n",
                "        self._lr = lr\n",
                "\n",
                "        self._num_cls = None\n",
                "\n",
                "        self._c_logits = None\n",
                "        self._num_probs = None\n",
                "\n",
                "    def fit(self, X, y):\n",
                "        pyro.clear_param_store()\n",
                "\n",
                "        svi = pyro.infer.SVI(\n",
                "            model=self._model,\n",
                "            guide=self._guide,\n",
                "            optim=pyro.optim.Adam({\"lr\": self._lr}),\n",
                "            loss=pyro.infer.Trace_ELBO(),\n",
                "        )\n",
                "\n",
                "        with tqdm(range(self._num_epochs)) as pbar:\n",
                "            for epoch in pbar:\n",
                "                loss = svi.step(X, y)\n",
                "\n",
                "                if epoch % 100 == 0:\n",
                "                    print(f\"Epoch: {epoch} Loss = {loss:.3f}\")\n",
                "\n",
                "    def predict(self, X):\n",
                "        pred = pyro.infer.Predictive(\n",
                "            model=self._model,\n",
                "            guide=self._guide,\n",
                "            num_samples=1,\n",
                "            return_sites=(\"logP(c|x)\",),\n",
                "        )\n",
                "        log_pcx = pred(X)[\"logP(c|x)\"].detach().squeeze(0).squeeze(0)\n",
                "        y_pred = torch.argmax(log_pcx, dim=-1)\n",
                "        return y_pred\n",
                "\n",
                "    def _model(self, X, y=None):\n",
                "        if y is not None:  # training mode\n",
                "            self._num_cls = max(y) + 1\n",
                "\n",
                "            numerical_cols = X.columns.values\n",
                "\n",
                "            self._init_c_logits()\n",
                "            self._init_num_params(X, numerical_cols)\n",
                "            self._observe_numerical_features_given_classes(X, y)\n",
                "        else:\n",
                "            self._get_classes_log_probs(X)\n",
                "\n",
                "    def _guide(self, X, y=None):\n",
                "        pass  # This is meant to be an empty function\n",
                "\n",
                "    def _init_c_logits(self):\n",
                "        self._c_probs = pyro.param(\n",
                "            \"c_probs\",\n",
                "            lambda: torch.ones(self._num_cls).div(self._num_cls),\n",
                "            constraint=constraints.simplex,\n",
                "        )\n",
                "\n",
                "    def _init_num_params(self, X, numerical_cols):\n",
                "        self._num_dists = {\n",
                "            col: {\n",
                "                \"mu\": pyro.param(f\"{col}_mu\", lambda: torch.zeros(self._num_cls)),\n",
                "                \"sigma\": pyro.param(\n",
                "                    f\"{col}_sigma\",\n",
                "                    lambda: torch.ones(self._num_cls),\n",
                "                    constraint=constraints.positive,\n",
                "                ),\n",
                "            }\n",
                "            for col in numerical_cols\n",
                "        }\n",
                "\n",
                "    def _observe_numerical_features_given_classes(self, X, y):\n",
                "        for c in range(self._num_cls):\n",
                "            x_c = X[y == c]\n",
                "            with pyro.plate(f\"data-numerical-{c}\", x_c.shape[0]):\n",
                "                for nc, v in self._num_dists.items():\n",
                "                    pyro.sample(\n",
                "                        f\"x_{nc}|c={c}\",\n",
                "                        dist.Normal(v[\"mu\"][c], v[\"sigma\"][c]),\n",
                "                        obs=torch.tensor(x_c[nc].values),\n",
                "                    )\n",
                "\n",
                "    def _get_log_likelihood(self, X):\n",
                "        log_lk = []\n",
                "\n",
                "        for c in range(self._num_cls):\n",
                "            lps = []\n",
                "\n",
                "            lps.extend(\n",
                "                [\n",
                "                    dist.Normal(v[\"mu\"][c], v[\"sigma\"][c]).log_prob(\n",
                "                        torch.tensor(X[nc].values)\n",
                "                    )\n",
                "                    for nc, v in self._num_dists.items()\n",
                "                ]\n",
                "            )\n",
                "\n",
                "            log_lk.append(torch.stack(lps).sum(dim=0))\n",
                "\n",
                "        return torch.stack(log_lk).t()\n",
                "\n",
                "    def _get_classes_log_probs(self, X):\n",
                "\n",
                "        log_lk = self._get_log_likelihood(X)\n",
                "\n",
                "        log_pcx = pyro.deterministic(\"logP(c|x)\", self._c_probs.log() + log_lk)"
            ]
        },
        {
            "cell_type": "code",
            "execution_count": 9,
            "metadata": {},
            "outputs": [
                {
                    "name": "stderr",
                    "output_type": "stream",
                    "text": [
                        "  1%|          | 8/1000 [00:01<01:55,  8.62it/s]"
                    ]
                },
                {
                    "name": "stdout",
                    "output_type": "stream",
                    "text": [
                        "Epoch: 0 Loss = 4218.210\n"
                    ]
                },
                {
                    "name": "stderr",
                    "output_type": "stream",
                    "text": [
                        " 11%|█         | 112/1000 [00:02<00:12, 73.86it/s]"
                    ]
                },
                {
                    "name": "stdout",
                    "output_type": "stream",
                    "text": [
                        "Epoch: 100 Loss = 1323.165\n"
                    ]
                },
                {
                    "name": "stderr",
                    "output_type": "stream",
                    "text": [
                        " 22%|██▏       | 216/1000 [00:03<00:08, 91.49it/s]"
                    ]
                },
                {
                    "name": "stdout",
                    "output_type": "stream",
                    "text": [
                        "Epoch: 200 Loss = 901.084\n"
                    ]
                },
                {
                    "name": "stderr",
                    "output_type": "stream",
                    "text": [
                        " 32%|███▏      | 316/1000 [00:04<00:05, 119.85it/s]"
                    ]
                },
                {
                    "name": "stdout",
                    "output_type": "stream",
                    "text": [
                        "Epoch: 300 Loss = 756.395\n"
                    ]
                },
                {
                    "name": "stderr",
                    "output_type": "stream",
                    "text": [
                        " 42%|████▏     | 417/1000 [00:05<00:04, 117.64it/s]"
                    ]
                },
                {
                    "name": "stdout",
                    "output_type": "stream",
                    "text": [
                        "Epoch: 400 Loss = 673.156\n"
                    ]
                },
                {
                    "name": "stderr",
                    "output_type": "stream",
                    "text": [
                        " 52%|█████▏    | 515/1000 [00:06<00:04, 116.59it/s]"
                    ]
                },
                {
                    "name": "stdout",
                    "output_type": "stream",
                    "text": [
                        "Epoch: 500 Loss = 594.741\n"
                    ]
                },
                {
                    "name": "stderr",
                    "output_type": "stream",
                    "text": [
                        " 62%|██████▏   | 623/1000 [00:07<00:03, 113.64it/s]"
                    ]
                },
                {
                    "name": "stdout",
                    "output_type": "stream",
                    "text": [
                        "Epoch: 600 Loss = 534.459\n"
                    ]
                },
                {
                    "name": "stderr",
                    "output_type": "stream",
                    "text": [
                        " 72%|███████▏  | 721/1000 [00:08<00:02, 109.45it/s]"
                    ]
                },
                {
                    "name": "stdout",
                    "output_type": "stream",
                    "text": [
                        "Epoch: 700 Loss = 490.441\n"
                    ]
                },
                {
                    "name": "stderr",
                    "output_type": "stream",
                    "text": [
                        " 82%|████████▏ | 819/1000 [00:09<00:01, 113.32it/s]"
                    ]
                },
                {
                    "name": "stdout",
                    "output_type": "stream",
                    "text": [
                        "Epoch: 800 Loss = 454.632\n"
                    ]
                },
                {
                    "name": "stderr",
                    "output_type": "stream",
                    "text": [
                        " 92%|█████████▏| 920/1000 [00:09<00:00, 121.06it/s]"
                    ]
                },
                {
                    "name": "stdout",
                    "output_type": "stream",
                    "text": [
                        "Epoch: 900 Loss = 421.804\n"
                    ]
                },
                {
                    "name": "stderr",
                    "output_type": "stream",
                    "text": [
                        "100%|██████████| 1000/1000 [00:10<00:00, 94.26it/s]"
                    ]
                },
                {
                    "name": "stdout",
                    "output_type": "stream",
                    "text": [
                        "train\n",
                        "              precision    recall  f1-score   support\n",
                        "\n",
                        "           0       1.00      1.00      1.00        40\n",
                        "           1       0.90      0.95      0.93        40\n",
                        "           2       0.95      0.90      0.92        40\n",
                        "\n",
                        "    accuracy                           0.95       120\n",
                        "   macro avg       0.95      0.95      0.95       120\n",
                        "weighted avg       0.95      0.95      0.95       120\n",
                        "\n",
                        "test\n",
                        "              precision    recall  f1-score   support\n",
                        "\n",
                        "           0       1.00      1.00      1.00        10\n",
                        "           1       1.00      1.00      1.00        10\n",
                        "           2       1.00      1.00      1.00        10\n",
                        "\n",
                        "    accuracy                           1.00        30\n",
                        "   macro avg       1.00      1.00      1.00        30\n",
                        "weighted avg       1.00      1.00      1.00        30\n",
                        "\n"
                    ]
                },
                {
                    "name": "stderr",
                    "output_type": "stream",
                    "text": [
                        "\n"
                    ]
                }
            ],
            "source": [
                "clf_pyro = GaussianNBClassifier(num_epochs=1000)\n",
                "clf_pyro.fit(X=iris[\"train\"][\"X\"], y=iris[\"train\"][\"y\"])\n",
                "\n",
                "\n",
                "for split in (\"train\", \"test\"):\n",
                "    print(split)\n",
                "    print(\n",
                "        sk_mtr.classification_report(\n",
                "            y_true=iris[split][\"y\"],\n",
                "            y_pred=clf_pyro.predict(X=iris[split][\"X\"]),\n",
                "        )\n",
                "    )"
            ]
        },
        {
            "cell_type": "markdown",
            "metadata": {},
            "source": [
                "### Implementacja w bibliotece `pgmpy`\n"
            ]
        },
        {
            "cell_type": "markdown",
            "metadata": {},
            "source": [
                "## Zadanie 1 (0.75 pkt)\n",
                "\n",
                "Zaimplementuj funkcję `discretize_data`, która dokona dyskretyzacji (np. `KBinsDiscretizer`) zmiennych ciągłych w zadanym zbiorze danych. Zmienne kategoryczne/dyskretne nie powinny zostać zmienione.\n"
            ]
        },
        {
            "cell_type": "code",
            "execution_count": 10,
            "metadata": {
                "deletable": false,
                "nbgrader": {
                    "cell_type": "code",
                    "checksum": "83ca6cd2bf6ae0088a0c7a0a3cc2a742",
                    "grade": true,
                    "grade_id": "discretize-data",
                    "locked": false,
                    "points": 0.75,
                    "schema_version": 3,
                    "solution": true,
                    "task": false
                }
            },
            "outputs": [],
            "source": [
                "from copy import deepcopy\n",
                "from sklearn.preprocessing import KBinsDiscretizer\n",
                "from typing import TypedDict\n",
                "import numpy as np\n",
                "\n",
                "\n",
                "class DatasetSplit(TypedDict):\n",
                "    X: pd.DataFrame\n",
                "    y: np.ndarray\n",
                "\n",
                "\n",
                "class Dataset(TypedDict):\n",
                "    train: DatasetSplit\n",
                "    test: DatasetSplit\n",
                "\n",
                "\n",
                "def discretize_data(dataset: dict, n_bins: int) -> Dataset:\n",
                "    _dataset = deepcopy(dataset)\n",
                "\n",
                "    X_train = _dataset[\"train\"][\"X\"]\n",
                "    X_test = _dataset[\"test\"][\"X\"]\n",
                "\n",
                "    discrete_cols = X_train.select_dtypes(\"category\").columns.values\n",
                "    continuous_cols = [c for c in X_train.columns if c not in discrete_cols]\n",
                "\n",
                "    discretizer = KBinsDiscretizer(n_bins=n_bins, encode=\"ordinal\", strategy=\"uniform\")\n",
                "\n",
                "    if continuous_cols:\n",
                "        discretizer.fit(X_train[continuous_cols])\n",
                "\n",
                "        X_train_continuous_transformed = discretizer.transform(X_train[continuous_cols])\n",
                "        X_test_continuous_transformed = discretizer.transform(X_test[continuous_cols])\n",
                "\n",
                "        X_train_continuous_transformed = pd.DataFrame(\n",
                "            X_train_continuous_transformed, columns=continuous_cols, index=X_train.index\n",
                "        )\n",
                "        X_test_continuous_transformed = pd.DataFrame(\n",
                "            X_test_continuous_transformed, columns=continuous_cols, index=X_test.index\n",
                "        )\n",
                "\n",
                "        _dataset[\"train\"][\"X\"][continuous_cols] = X_train_continuous_transformed\n",
                "        _dataset[\"test\"][\"X\"][continuous_cols] = X_test_continuous_transformed\n",
                "\n",
                "    return _dataset"
            ]
        },
        {
            "cell_type": "markdown",
            "metadata": {},
            "source": [
                "## Zadanie 2 (0.4 pkt)\n",
                "\n",
                "Zaimplementuj funkcję `build_model`, która zbuduje model Naiwnego Bayesa na podstawie obiektu `BayesianModel` (nie wykorzytuj klasy `NaiveBayes` z pgmpy!).\n"
            ]
        },
        {
            "cell_type": "code",
            "execution_count": 11,
            "metadata": {
                "deletable": false,
                "nbgrader": {
                    "cell_type": "code",
                    "checksum": "cc3c2d070fca34c96f6a8fee90a1daf8",
                    "grade": true,
                    "grade_id": "build-model",
                    "locked": false,
                    "points": 0.4,
                    "schema_version": 3,
                    "solution": true,
                    "task": false
                }
            },
            "outputs": [],
            "source": [
                "from pgmpy.models import BayesianModel\n",
                "\n",
                "\n",
                "def build_model(dataset: Dataset) -> BayesianModel:\n",
                "    features = dataset[\"train\"][\"X\"]\n",
                "    features = features.columns.to_list()\n",
                "    model_structure = [(\"Y\", feature) for feature in features]\n",
                "    model = BayesianModel(model_structure)\n",
                "    return model"
            ]
        },
        {
            "cell_type": "markdown",
            "metadata": {},
            "source": [
                "## Zadanie 3 (0.5 pkt)\n",
                "\n",
                "Zaimplementuj funkcję `fit_model`, która dopasuje parametry modelu Naiwnego Bayesa. Użyj dowolnej metody estymacji (np. Maximum Likelihood)\n"
            ]
        },
        {
            "cell_type": "code",
            "execution_count": 12,
            "metadata": {
                "deletable": false,
                "nbgrader": {
                    "cell_type": "code",
                    "checksum": "e0d6f2b245d2ef9edbc0a3dec8479578",
                    "grade": true,
                    "grade_id": "fit-model",
                    "locked": false,
                    "points": 0.5,
                    "schema_version": 3,
                    "solution": true,
                    "task": false
                }
            },
            "outputs": [],
            "source": [
                "from pgmpy.estimators import BayesianEstimator\n",
                "\n",
                "\n",
                "def fit_model(model: BayesianModel, training_data: DatasetSplit) -> BayesianModel:\n",
                "    combined_data = training_data[\"X\"].copy()\n",
                "    combined_data[\"Y\"] = training_data[\"y\"]\n",
                "    model.fit(combined_data, estimator=BayesianEstimator, prior_type=\"BDeu\")\n",
                "\n",
                "    return model"
            ]
        },
        {
            "cell_type": "markdown",
            "metadata": {},
            "source": [
                "## Zadanie 4 (0.75 pkt)\n",
                "\n",
                "Zaimplementuj funkcję `predict_pgmpy`, która zwróci predykcje modelu Naiwnego Bayesa dla zadanych danych `X`. Użyj dowolnej metody inferencji (np. Variable Elimination).\n"
            ]
        },
        {
            "cell_type": "code",
            "execution_count": 13,
            "metadata": {
                "deletable": false,
                "nbgrader": {
                    "cell_type": "code",
                    "checksum": "bf83cd2aa629bf9cff640e1a81b62d7b",
                    "grade": true,
                    "grade_id": "predict-pgmpy",
                    "locked": false,
                    "points": 0.75,
                    "schema_version": 3,
                    "solution": true,
                    "task": false
                }
            },
            "outputs": [],
            "source": [
                "from pgmpy.inference import VariableElimination\n",
                "\n",
                "\n",
                "def predict_pgmpy(model: BayesianModel, X: pd.DataFrame):\n",
                "    y_pred: list[dict] = []\n",
                "    inference = VariableElimination(model)\n",
                "\n",
                "    for _, row in X.iterrows():\n",
                "        evidence = row.to_dict()\n",
                "        prediction = inference.map_query(variables=[\"Y\"], evidence=evidence)\n",
                "        y_pred.append(prediction[\"Y\"])\n",
                "\n",
                "    return y_pred"
            ]
        },
        {
            "cell_type": "markdown",
            "metadata": {},
            "source": [
                "Wykorzystajmy teraz zaimplementowane funkcje, aby wyuczyć model Naiwnego Bayesa w pgmpy i sprawdźmy jakość działania modelu na zdyskretyzowanych danych.\n"
            ]
        },
        {
            "cell_type": "code",
            "execution_count": 14,
            "metadata": {},
            "outputs": [
                {
                    "name": "stderr",
                    "output_type": "stream",
                    "text": []
                },
                {
                    "name": "stdout",
                    "output_type": "stream",
                    "text": [
                        "train\n"
                    ]
                },
                {
                    "name": "stderr",
                    "output_type": "stream",
                    "text": [
                        "Finding Elimination Order: : : 0it [00:00, ?it/s]\n",
                        "0it [00:00, ?it/s]\n",
                        "Finding Elimination Order: : : 0it [00:00, ?it/s]\n",
                        "0it [00:00, ?it/s]\n",
                        "Finding Elimination Order: : : 0it [00:00, ?it/s]\n",
                        "0it [00:00, ?it/s]\n",
                        "Finding Elimination Order: : : 0it [00:00, ?it/s]\n",
                        "0it [00:00, ?it/s]\n",
                        "Finding Elimination Order: : : 0it [00:00, ?it/s]\n",
                        "0it [00:00, ?it/s]\n",
                        "Finding Elimination Order: : : 0it [00:00, ?it/s]\n",
                        "0it [00:00, ?it/s]\n",
                        "Finding Elimination Order: : : 0it [00:00, ?it/s]\n",
                        "0it [00:00, ?it/s]\n",
                        "Finding Elimination Order: : : 0it [00:00, ?it/s]\n",
                        "0it [00:00, ?it/s]\n",
                        "Finding Elimination Order: : : 0it [00:00, ?it/s]\n",
                        "0it [00:00, ?it/s]\n",
                        "Finding Elimination Order: : : 0it [00:00, ?it/s]\n",
                        "0it [00:00, ?it/s]\n",
                        "Finding Elimination Order: : : 0it [00:00, ?it/s]\n",
                        "0it [00:00, ?it/s]\n",
                        "Finding Elimination Order: : : 0it [00:00, ?it/s]\n",
                        "0it [00:00, ?it/s]\n",
                        "Finding Elimination Order: : : 0it [00:00, ?it/s]\n",
                        "0it [00:00, ?it/s]\n",
                        "Finding Elimination Order: : : 0it [00:00, ?it/s]\n",
                        "0it [00:00, ?it/s]\n",
                        "Finding Elimination Order: : : 0it [00:00, ?it/s]\n",
                        "0it [00:00, ?it/s]\n",
                        "Finding Elimination Order: : : 0it [00:00, ?it/s]\n",
                        "0it [00:00, ?it/s]\n",
                        "Finding Elimination Order: : : 0it [00:00, ?it/s]\n",
                        "0it [00:00, ?it/s]\n",
                        "Finding Elimination Order: : : 0it [00:00, ?it/s]\n",
                        "0it [00:00, ?it/s]\n",
                        "Finding Elimination Order: : : 0it [00:00, ?it/s]\n",
                        "0it [00:00, ?it/s]\n",
                        "Finding Elimination Order: : : 0it [00:00, ?it/s]\n",
                        "0it [00:00, ?it/s]\n",
                        "Finding Elimination Order: : : 0it [00:00, ?it/s]\n",
                        "0it [00:00, ?it/s]\n",
                        "Finding Elimination Order: : : 0it [00:00, ?it/s]\n",
                        "0it [00:00, ?it/s]\n",
                        "Finding Elimination Order: : : 0it [00:00, ?it/s]\n",
                        "0it [00:00, ?it/s]\n",
                        "Finding Elimination Order: : : 0it [00:00, ?it/s]\n",
                        "0it [00:00, ?it/s]\n",
                        "Finding Elimination Order: : : 0it [00:00, ?it/s]\n",
                        "0it [00:00, ?it/s]\n",
                        "Finding Elimination Order: : : 0it [00:00, ?it/s]\n",
                        "0it [00:00, ?it/s]\n",
                        "Finding Elimination Order: : : 0it [00:00, ?it/s]\n",
                        "0it [00:00, ?it/s]\n",
                        "Finding Elimination Order: : : 0it [00:00, ?it/s]\n",
                        "0it [00:00, ?it/s]\n",
                        "Finding Elimination Order: : : 0it [00:00, ?it/s]\n",
                        "0it [00:00, ?it/s]\n",
                        "Finding Elimination Order: : : 0it [00:00, ?it/s]\n",
                        "0it [00:00, ?it/s]\n",
                        "Finding Elimination Order: : : 0it [00:00, ?it/s]\n",
                        "0it [00:00, ?it/s]\n",
                        "Finding Elimination Order: : : 0it [00:00, ?it/s]\n",
                        "0it [00:00, ?it/s]\n",
                        "Finding Elimination Order: : : 0it [00:00, ?it/s]\n",
                        "0it [00:00, ?it/s]\n",
                        "Finding Elimination Order: : : 0it [00:00, ?it/s]\n",
                        "0it [00:00, ?it/s]\n",
                        "Finding Elimination Order: : : 0it [00:00, ?it/s]\n",
                        "0it [00:00, ?it/s]\n",
                        "Finding Elimination Order: : : 0it [00:00, ?it/s]\n",
                        "0it [00:00, ?it/s]\n",
                        "Finding Elimination Order: : : 0it [00:00, ?it/s]\n",
                        "0it [00:00, ?it/s]\n",
                        "Finding Elimination Order: : : 0it [00:00, ?it/s]\n",
                        "0it [00:00, ?it/s]\n",
                        "Finding Elimination Order: : : 0it [00:00, ?it/s]\n",
                        "0it [00:00, ?it/s]\n",
                        "Finding Elimination Order: : : 0it [00:00, ?it/s]\n",
                        "0it [00:00, ?it/s]\n",
                        "Finding Elimination Order: : : 0it [00:00, ?it/s]\n",
                        "0it [00:00, ?it/s]\n",
                        "Finding Elimination Order: : : 0it [00:00, ?it/s]\n",
                        "0it [00:00, ?it/s]\n",
                        "Finding Elimination Order: : : 0it [00:00, ?it/s]\n",
                        "0it [00:00, ?it/s]\n",
                        "Finding Elimination Order: : : 0it [00:00, ?it/s]\n",
                        "0it [00:00, ?it/s]\n",
                        "Finding Elimination Order: : : 0it [00:00, ?it/s]\n",
                        "0it [00:00, ?it/s]\n",
                        "Finding Elimination Order: : : 0it [00:00, ?it/s]\n",
                        "0it [00:00, ?it/s]\n",
                        "Finding Elimination Order: : : 0it [00:00, ?it/s]\n",
                        "0it [00:00, ?it/s]\n",
                        "Finding Elimination Order: : : 0it [00:00, ?it/s]\n",
                        "0it [00:00, ?it/s]\n",
                        "Finding Elimination Order: : : 0it [00:00, ?it/s]\n",
                        "0it [00:00, ?it/s]\n",
                        "Finding Elimination Order: : : 0it [00:00, ?it/s]\n",
                        "0it [00:00, ?it/s]\n",
                        "Finding Elimination Order: : : 0it [00:00, ?it/s]\n",
                        "0it [00:00, ?it/s]\n",
                        "Finding Elimination Order: : : 0it [00:00, ?it/s]\n",
                        "0it [00:00, ?it/s]\n",
                        "Finding Elimination Order: : : 0it [00:00, ?it/s]\n",
                        "0it [00:00, ?it/s]\n",
                        "Finding Elimination Order: : : 0it [00:00, ?it/s]\n",
                        "0it [00:00, ?it/s]\n",
                        "Finding Elimination Order: : : 0it [00:00, ?it/s]\n",
                        "0it [00:00, ?it/s]\n",
                        "Finding Elimination Order: : : 0it [00:00, ?it/s]\n",
                        "0it [00:00, ?it/s]\n",
                        "Finding Elimination Order: : : 0it [00:00, ?it/s]\n",
                        "0it [00:00, ?it/s]\n",
                        "Finding Elimination Order: : : 0it [00:00, ?it/s]\n",
                        "0it [00:00, ?it/s]\n",
                        "Finding Elimination Order: : : 0it [00:00, ?it/s]\n",
                        "0it [00:00, ?it/s]\n",
                        "Finding Elimination Order: : : 0it [00:00, ?it/s]\n",
                        "0it [00:00, ?it/s]\n",
                        "Finding Elimination Order: : : 0it [00:00, ?it/s]\n",
                        "0it [00:00, ?it/s]\n",
                        "Finding Elimination Order: : : 0it [00:00, ?it/s]\n",
                        "0it [00:00, ?it/s]\n",
                        "Finding Elimination Order: : : 0it [00:00, ?it/s]\n",
                        "0it [00:00, ?it/s]\n",
                        "Finding Elimination Order: : : 0it [00:00, ?it/s]\n",
                        "0it [00:00, ?it/s]\n",
                        "Finding Elimination Order: : : 0it [00:00, ?it/s]\n",
                        "0it [00:00, ?it/s]\n",
                        "Finding Elimination Order: : : 0it [00:00, ?it/s]\n",
                        "0it [00:00, ?it/s]\n",
                        "Finding Elimination Order: : : 0it [00:00, ?it/s]\n",
                        "0it [00:00, ?it/s]\n",
                        "Finding Elimination Order: : : 0it [00:00, ?it/s]\n",
                        "0it [00:00, ?it/s]\n",
                        "Finding Elimination Order: : : 0it [00:00, ?it/s]\n",
                        "0it [00:00, ?it/s]\n",
                        "Finding Elimination Order: : : 0it [00:00, ?it/s]\n",
                        "0it [00:00, ?it/s]\n",
                        "Finding Elimination Order: : : 0it [00:00, ?it/s]\n",
                        "0it [00:00, ?it/s]\n",
                        "Finding Elimination Order: : : 0it [00:00, ?it/s]\n",
                        "0it [00:00, ?it/s]\n",
                        "Finding Elimination Order: : : 0it [00:00, ?it/s]\n",
                        "0it [00:00, ?it/s]\n",
                        "Finding Elimination Order: : : 0it [00:00, ?it/s]\n",
                        "0it [00:00, ?it/s]\n",
                        "Finding Elimination Order: : : 0it [00:00, ?it/s]\n",
                        "0it [00:00, ?it/s]\n",
                        "Finding Elimination Order: : : 0it [00:00, ?it/s]\n",
                        "0it [00:00, ?it/s]\n",
                        "Finding Elimination Order: : : 0it [00:00, ?it/s]\n",
                        "0it [00:00, ?it/s]\n",
                        "Finding Elimination Order: : : 0it [00:00, ?it/s]\n",
                        "0it [00:00, ?it/s]\n",
                        "Finding Elimination Order: : : 0it [00:00, ?it/s]\n",
                        "0it [00:00, ?it/s]\n",
                        "Finding Elimination Order: : : 0it [00:00, ?it/s]\n",
                        "0it [00:00, ?it/s]\n",
                        "Finding Elimination Order: : : 0it [00:00, ?it/s]\n",
                        "0it [00:00, ?it/s]\n",
                        "Finding Elimination Order: : : 0it [00:00, ?it/s]\n",
                        "0it [00:00, ?it/s]\n",
                        "Finding Elimination Order: : : 0it [00:00, ?it/s]\n",
                        "0it [00:00, ?it/s]\n",
                        "Finding Elimination Order: : : 0it [00:00, ?it/s]\n",
                        "0it [00:00, ?it/s]\n",
                        "Finding Elimination Order: : : 0it [00:00, ?it/s]\n",
                        "0it [00:00, ?it/s]\n",
                        "Finding Elimination Order: : : 0it [00:00, ?it/s]\n",
                        "0it [00:00, ?it/s]\n",
                        "Finding Elimination Order: : : 0it [00:00, ?it/s]\n",
                        "0it [00:00, ?it/s]\n",
                        "Finding Elimination Order: : : 0it [00:00, ?it/s]\n",
                        "0it [00:00, ?it/s]\n",
                        "Finding Elimination Order: : : 0it [00:00, ?it/s]\n",
                        "0it [00:00, ?it/s]\n",
                        "Finding Elimination Order: : : 0it [00:00, ?it/s]\n",
                        "0it [00:00, ?it/s]\n",
                        "Finding Elimination Order: : : 0it [00:00, ?it/s]\n",
                        "0it [00:00, ?it/s]\n",
                        "Finding Elimination Order: : : 0it [00:00, ?it/s]\n",
                        "0it [00:00, ?it/s]\n",
                        "Finding Elimination Order: : : 0it [00:00, ?it/s]\n",
                        "0it [00:00, ?it/s]\n",
                        "Finding Elimination Order: : : 0it [00:00, ?it/s]\n",
                        "0it [00:00, ?it/s]\n",
                        "Finding Elimination Order: : : 0it [00:00, ?it/s]\n",
                        "0it [00:00, ?it/s]\n",
                        "Finding Elimination Order: : : 0it [00:00, ?it/s]\n",
                        "0it [00:00, ?it/s]\n",
                        "Finding Elimination Order: : : 0it [00:00, ?it/s]\n",
                        "0it [00:00, ?it/s]\n",
                        "Finding Elimination Order: : : 0it [00:00, ?it/s]\n",
                        "0it [00:00, ?it/s]\n",
                        "Finding Elimination Order: : : 0it [00:00, ?it/s]\n",
                        "0it [00:00, ?it/s]\n",
                        "Finding Elimination Order: : : 0it [00:00, ?it/s]\n",
                        "0it [00:00, ?it/s]\n",
                        "Finding Elimination Order: : : 0it [00:00, ?it/s]\n",
                        "0it [00:00, ?it/s]\n",
                        "Finding Elimination Order: : : 0it [00:00, ?it/s]\n",
                        "0it [00:00, ?it/s]\n",
                        "Finding Elimination Order: : : 0it [00:00, ?it/s]\n",
                        "0it [00:00, ?it/s]\n",
                        "Finding Elimination Order: : : 0it [00:00, ?it/s]\n",
                        "0it [00:00, ?it/s]\n",
                        "Finding Elimination Order: : : 0it [00:00, ?it/s]\n",
                        "0it [00:00, ?it/s]\n",
                        "Finding Elimination Order: : : 0it [00:00, ?it/s]\n",
                        "0it [00:00, ?it/s]\n",
                        "Finding Elimination Order: : : 0it [00:00, ?it/s]\n",
                        "0it [00:00, ?it/s]\n",
                        "Finding Elimination Order: : : 0it [00:00, ?it/s]\n",
                        "0it [00:00, ?it/s]\n",
                        "Finding Elimination Order: : : 0it [00:00, ?it/s]\n",
                        "0it [00:00, ?it/s]\n",
                        "Finding Elimination Order: : : 0it [00:00, ?it/s]\n",
                        "0it [00:00, ?it/s]\n",
                        "Finding Elimination Order: : : 0it [00:00, ?it/s]\n",
                        "0it [00:00, ?it/s]\n",
                        "Finding Elimination Order: : : 0it [00:00, ?it/s]\n",
                        "0it [00:00, ?it/s]\n",
                        "Finding Elimination Order: : : 0it [00:00, ?it/s]\n",
                        "0it [00:00, ?it/s]\n",
                        "Finding Elimination Order: : : 0it [00:00, ?it/s]\n",
                        "0it [00:00, ?it/s]\n",
                        "Finding Elimination Order: : : 0it [00:00, ?it/s]\n",
                        "0it [00:00, ?it/s]\n",
                        "Finding Elimination Order: : : 0it [00:00, ?it/s]\n",
                        "0it [00:00, ?it/s]\n",
                        "Finding Elimination Order: : : 0it [00:00, ?it/s]\n",
                        "0it [00:00, ?it/s]\n",
                        "Finding Elimination Order: : : 0it [00:00, ?it/s]\n",
                        "0it [00:00, ?it/s]\n",
                        "Finding Elimination Order: : : 0it [00:00, ?it/s]\n",
                        "0it [00:00, ?it/s]\n",
                        "Finding Elimination Order: : : 0it [00:00, ?it/s]\n",
                        "0it [00:00, ?it/s]\n"
                    ]
                },
                {
                    "name": "stdout",
                    "output_type": "stream",
                    "text": [
                        "              precision    recall  f1-score   support\n",
                        "\n",
                        "           0       1.00      1.00      1.00        40\n",
                        "           1       0.88      0.90      0.89        40\n",
                        "           2       0.90      0.88      0.89        40\n",
                        "\n",
                        "    accuracy                           0.93       120\n",
                        "   macro avg       0.93      0.92      0.92       120\n",
                        "weighted avg       0.93      0.93      0.92       120\n",
                        "\n",
                        "test\n"
                    ]
                },
                {
                    "name": "stderr",
                    "output_type": "stream",
                    "text": [
                        "Finding Elimination Order: : : 0it [00:00, ?it/s]\n",
                        "0it [00:00, ?it/s]\n",
                        "Finding Elimination Order: : : 0it [00:00, ?it/s]\n",
                        "0it [00:00, ?it/s]\n",
                        "Finding Elimination Order: : : 0it [00:00, ?it/s]\n",
                        "0it [00:00, ?it/s]\n",
                        "Finding Elimination Order: : : 0it [00:00, ?it/s]\n",
                        "0it [00:00, ?it/s]\n",
                        "Finding Elimination Order: : : 0it [00:00, ?it/s]\n",
                        "0it [00:00, ?it/s]\n",
                        "Finding Elimination Order: : : 0it [00:00, ?it/s]\n",
                        "0it [00:00, ?it/s]\n",
                        "Finding Elimination Order: : : 0it [00:00, ?it/s]\n",
                        "0it [00:00, ?it/s]\n",
                        "Finding Elimination Order: : : 0it [00:00, ?it/s]\n",
                        "0it [00:00, ?it/s]\n",
                        "Finding Elimination Order: : : 0it [00:00, ?it/s]\n",
                        "0it [00:00, ?it/s]\n",
                        "Finding Elimination Order: : : 0it [00:00, ?it/s]\n",
                        "0it [00:00, ?it/s]\n",
                        "Finding Elimination Order: : : 0it [00:00, ?it/s]\n",
                        "0it [00:00, ?it/s]\n",
                        "Finding Elimination Order: : : 0it [00:00, ?it/s]\n",
                        "0it [00:00, ?it/s]\n",
                        "Finding Elimination Order: : : 0it [00:00, ?it/s]\n",
                        "0it [00:00, ?it/s]\n",
                        "Finding Elimination Order: : : 0it [00:00, ?it/s]\n",
                        "0it [00:00, ?it/s]\n",
                        "Finding Elimination Order: : : 0it [00:00, ?it/s]\n",
                        "0it [00:00, ?it/s]\n",
                        "Finding Elimination Order: : : 0it [00:00, ?it/s]\n",
                        "0it [00:00, ?it/s]\n",
                        "Finding Elimination Order: : : 0it [00:00, ?it/s]\n",
                        "0it [00:00, ?it/s]\n",
                        "Finding Elimination Order: : : 0it [00:00, ?it/s]\n",
                        "0it [00:00, ?it/s]\n",
                        "Finding Elimination Order: : : 0it [00:00, ?it/s]\n",
                        "0it [00:00, ?it/s]\n",
                        "Finding Elimination Order: : : 0it [00:00, ?it/s]\n",
                        "0it [00:00, ?it/s]\n",
                        "Finding Elimination Order: : : 0it [00:00, ?it/s]\n",
                        "0it [00:00, ?it/s]\n",
                        "Finding Elimination Order: : : 0it [00:00, ?it/s]\n",
                        "0it [00:00, ?it/s]\n",
                        "Finding Elimination Order: : : 0it [00:00, ?it/s]\n",
                        "0it [00:00, ?it/s]\n",
                        "Finding Elimination Order: : : 0it [00:00, ?it/s]\n",
                        "0it [00:00, ?it/s]\n",
                        "Finding Elimination Order: : : 0it [00:00, ?it/s]\n",
                        "0it [00:00, ?it/s]\n",
                        "Finding Elimination Order: : : 0it [00:00, ?it/s]\n",
                        "0it [00:00, ?it/s]\n",
                        "Finding Elimination Order: : : 0it [00:00, ?it/s]\n",
                        "0it [00:00, ?it/s]\n",
                        "Finding Elimination Order: : : 0it [00:00, ?it/s]\n",
                        "0it [00:00, ?it/s]\n",
                        "Finding Elimination Order: : : 0it [00:00, ?it/s]\n",
                        "0it [00:00, ?it/s]\n",
                        "Finding Elimination Order: : : 0it [00:00, ?it/s]\n",
                        "0it [00:00, ?it/s]\n"
                    ]
                },
                {
                    "name": "stdout",
                    "output_type": "stream",
                    "text": [
                        "              precision    recall  f1-score   support\n",
                        "\n",
                        "           0       1.00      1.00      1.00        10\n",
                        "           1       0.88      0.70      0.78        10\n",
                        "           2       0.75      0.90      0.82        10\n",
                        "\n",
                        "    accuracy                           0.87        30\n",
                        "   macro avg       0.88      0.87      0.87        30\n",
                        "weighted avg       0.88      0.87      0.87        30\n",
                        "\n"
                    ]
                }
            ],
            "source": [
                "iris_discrete = discretize_data(dataset=iris, n_bins=5)\n",
                "clf_pgmpy = build_model(dataset=iris_discrete)\n",
                "clf_pgmpy = fit_model(model=clf_pgmpy, training_data=iris_discrete[\"train\"])\n",
                "\n",
                "\n",
                "for split in (\"train\", \"test\"):\n",
                "    print(split)\n",
                "    print(\n",
                "        sk_mtr.classification_report(\n",
                "            y_true=iris_discrete[split][\"y\"],\n",
                "            y_pred=predict_pgmpy(model=clf_pgmpy, X=iris_discrete[split][\"X\"]),\n",
                "        )\n",
                "    )"
            ]
        },
        {
            "cell_type": "markdown",
            "metadata": {},
            "source": [
                "# Zmienne ciągłe i dyskretne\n",
                "\n",
                "Wykorzystaj zbiór CMC, aby sprawdzić wszystkie modele na zbiorze z cechami dyskretnymi i ciągłymi.\n"
            ]
        },
        {
            "cell_type": "code",
            "execution_count": 15,
            "metadata": {},
            "outputs": [],
            "source": [
                "def load_cmc(N=-1):\n",
                "    # Source: https://archive.ics.uci.edu/ml/datasets/Contraceptive+Method+Choice\n",
                "    df = pd.read_csv(\n",
                "        \"data/cmc.data\",\n",
                "        names=[\n",
                "            \"age\",  # numerical\n",
                "            \"w-education\",  # categorical\n",
                "            \"h-education\",  # categorical\n",
                "            \"num-children\",  # numerical\n",
                "            \"w-religion\",  # binary\n",
                "            \"w-working\",  # binary\n",
                "            \"h-occupation\",  # categorical\n",
                "            \"sol-index\",  # categorical\n",
                "            \"media-exposure\",  # binary\n",
                "            \"contraceptive-method-used\",  # class\n",
                "        ],\n",
                "    )\n",
                "\n",
                "    cat_cols = [\n",
                "        \"w-education\",  # categorical\n",
                "        \"h-education\",  # categorical\n",
                "        \"h-occupation\",  # categorical\n",
                "        \"sol-index\",  # categorical\n",
                "    ]\n",
                "    bin_cols = [\n",
                "        \"w-religion\",  # binary\n",
                "        \"w-working\",  # binary\n",
                "        \"media-exposure\",  # binary\n",
                "    ]\n",
                "\n",
                "    for col in cat_cols:\n",
                "        df[col] = (df[col] - 1).astype(\"category\")\n",
                "\n",
                "    for col in bin_cols:\n",
                "        df[col] = df[col].astype(\"category\")\n",
                "\n",
                "    if N != -1:\n",
                "        df = df.sample(\n",
                "            n=N,\n",
                "            weights=\"contraceptive-method-used\",\n",
                "            random_state=2020,\n",
                "        )\n",
                "\n",
                "    X = df[df.columns[:-1]]\n",
                "    y = df[\"contraceptive-method-used\"].values - 1\n",
                "\n",
                "    X_tr, X_te, y_tr, y_te = sk_ms.train_test_split(X, y, train_size=0.8, stratify=y)\n",
                "    print(\"Full\", X.shape, y.shape)\n",
                "    print(\"Train\", X_tr.shape, y_tr.shape)\n",
                "    print(\"Test\", X_te.shape, y_te.shape)\n",
                "\n",
                "    return {\n",
                "        \"train\": {\"X\": X_tr.reset_index(drop=True), \"y\": y_tr},\n",
                "        \"test\": {\"X\": X_te.reset_index(drop=True), \"y\": y_te},\n",
                "    }"
            ]
        },
        {
            "cell_type": "code",
            "execution_count": 16,
            "metadata": {},
            "outputs": [
                {
                    "name": "stdout",
                    "output_type": "stream",
                    "text": [
                        "Full (200, 9) (200,)\n",
                        "Train (160, 9) (160,)\n",
                        "Test (40, 9) (40,)\n"
                    ]
                }
            ],
            "source": [
                "cmc = load_cmc(N=200)"
            ]
        },
        {
            "cell_type": "code",
            "execution_count": 17,
            "metadata": {},
            "outputs": [
                {
                    "data": {
                        "text/html": [
                            "<div>\n",
                            "<style scoped>\n",
                            "    .dataframe tbody tr th:only-of-type {\n",
                            "        vertical-align: middle;\n",
                            "    }\n",
                            "\n",
                            "    .dataframe tbody tr th {\n",
                            "        vertical-align: top;\n",
                            "    }\n",
                            "\n",
                            "    .dataframe thead th {\n",
                            "        text-align: right;\n",
                            "    }\n",
                            "</style>\n",
                            "<table border=\"1\" class=\"dataframe\">\n",
                            "  <thead>\n",
                            "    <tr style=\"text-align: right;\">\n",
                            "      <th></th>\n",
                            "      <th>age</th>\n",
                            "      <th>w-education</th>\n",
                            "      <th>h-education</th>\n",
                            "      <th>num-children</th>\n",
                            "      <th>w-religion</th>\n",
                            "      <th>w-working</th>\n",
                            "      <th>h-occupation</th>\n",
                            "      <th>sol-index</th>\n",
                            "      <th>media-exposure</th>\n",
                            "    </tr>\n",
                            "  </thead>\n",
                            "  <tbody>\n",
                            "    <tr>\n",
                            "      <th>0</th>\n",
                            "      <td>26</td>\n",
                            "      <td>2</td>\n",
                            "      <td>3</td>\n",
                            "      <td>3</td>\n",
                            "      <td>1</td>\n",
                            "      <td>1</td>\n",
                            "      <td>2</td>\n",
                            "      <td>1</td>\n",
                            "      <td>0</td>\n",
                            "    </tr>\n",
                            "    <tr>\n",
                            "      <th>1</th>\n",
                            "      <td>35</td>\n",
                            "      <td>3</td>\n",
                            "      <td>3</td>\n",
                            "      <td>3</td>\n",
                            "      <td>1</td>\n",
                            "      <td>1</td>\n",
                            "      <td>0</td>\n",
                            "      <td>3</td>\n",
                            "      <td>0</td>\n",
                            "    </tr>\n",
                            "    <tr>\n",
                            "      <th>2</th>\n",
                            "      <td>18</td>\n",
                            "      <td>2</td>\n",
                            "      <td>2</td>\n",
                            "      <td>1</td>\n",
                            "      <td>1</td>\n",
                            "      <td>1</td>\n",
                            "      <td>1</td>\n",
                            "      <td>1</td>\n",
                            "      <td>0</td>\n",
                            "    </tr>\n",
                            "    <tr>\n",
                            "      <th>3</th>\n",
                            "      <td>36</td>\n",
                            "      <td>1</td>\n",
                            "      <td>3</td>\n",
                            "      <td>8</td>\n",
                            "      <td>1</td>\n",
                            "      <td>1</td>\n",
                            "      <td>0</td>\n",
                            "      <td>3</td>\n",
                            "      <td>0</td>\n",
                            "    </tr>\n",
                            "    <tr>\n",
                            "      <th>4</th>\n",
                            "      <td>34</td>\n",
                            "      <td>3</td>\n",
                            "      <td>3</td>\n",
                            "      <td>5</td>\n",
                            "      <td>1</td>\n",
                            "      <td>1</td>\n",
                            "      <td>2</td>\n",
                            "      <td>3</td>\n",
                            "      <td>0</td>\n",
                            "    </tr>\n",
                            "  </tbody>\n",
                            "</table>\n",
                            "</div>"
                        ],
                        "text/plain": [
                            "   age w-education h-education  num-children w-religion w-working  \\\n",
                            "0   26           2           3             3          1         1   \n",
                            "1   35           3           3             3          1         1   \n",
                            "2   18           2           2             1          1         1   \n",
                            "3   36           1           3             8          1         1   \n",
                            "4   34           3           3             5          1         1   \n",
                            "\n",
                            "  h-occupation sol-index media-exposure  \n",
                            "0            2         1              0  \n",
                            "1            0         3              0  \n",
                            "2            1         1              0  \n",
                            "3            0         3              0  \n",
                            "4            2         3              0  "
                        ]
                    },
                    "execution_count": 17,
                    "metadata": {},
                    "output_type": "execute_result"
                }
            ],
            "source": [
                "cmc[\"train\"][\"X\"].head()"
            ]
        },
        {
            "cell_type": "code",
            "execution_count": 18,
            "metadata": {},
            "outputs": [
                {
                    "data": {
                        "text/plain": [
                            "array([2, 1, 2, 2, 1, 1, 2, 2, 1, 0, 0, 1, 0, 2, 2, 2, 2, 2, 0, 0, 2, 1,\n",
                            "       2, 2, 0, 0, 0, 2, 2, 0, 2, 1, 2, 2, 2, 2, 2, 2, 1, 0, 0, 0, 2, 1,\n",
                            "       2, 2, 1, 0, 1, 0, 2, 2, 1, 0, 2, 2, 2, 0, 0, 1, 0, 0, 2, 2, 1, 2,\n",
                            "       2, 2, 0, 2, 0, 2, 0, 2, 2, 1, 1, 2, 1, 0, 2, 1, 0, 0, 2, 1, 0, 2,\n",
                            "       2, 2, 2, 2, 0, 1, 2, 0, 2, 2, 0, 2, 2, 1, 2, 2, 2, 2, 2, 2, 2, 1,\n",
                            "       1, 1, 0, 0, 1, 2, 0, 0, 1, 1, 0, 1, 2, 0, 2, 2, 1, 0, 2, 2, 2, 1,\n",
                            "       2, 2, 0, 2, 1, 1, 2, 2, 0, 2, 0, 0, 2, 2, 2, 2, 0, 2, 2, 0, 2, 0,\n",
                            "       2, 1, 2, 1, 2, 2])"
                        ]
                    },
                    "execution_count": 18,
                    "metadata": {},
                    "output_type": "execute_result"
                }
            ],
            "source": [
                "cmc[\"train\"][\"y\"]"
            ]
        },
        {
            "cell_type": "markdown",
            "metadata": {},
            "source": [
                "### Implementacja w `pyro`\n",
                "\n",
                "Poprzednio użyta implementacja Naiwnego Bayesa w bibliotece Pyro nie obsługuje zmiennych dyskretnych. Poniżej zamieszczamy implementację obsługująca oba typy zmiennych. Zachęcamy do dokładniejszej analizy kodu.\n"
            ]
        },
        {
            "cell_type": "code",
            "execution_count": 19,
            "metadata": {},
            "outputs": [],
            "source": [
                "class FullNBClassifier(GaussianNBClassifier):\n",
                "    def __init__(self, num_epochs=500, lr=1e-2):\n",
                "        super().__init__(num_epochs, lr)\n",
                "        self._cat_probs = None\n",
                "\n",
                "    # fit() from base class\n",
                "\n",
                "    # predict() from base class\n",
                "\n",
                "    def _model(self, X, y=None):  # Override\n",
                "        if y is not None:  # training mode\n",
                "            self._num_cls = max(y) + 1\n",
                "\n",
                "            categorical_cols = X.select_dtypes(\"category\").columns.values  # Changed\n",
                "            numerical_cols = [\n",
                "                c for c in X.columns if c not in categorical_cols\n",
                "            ]  # Changed\n",
                "\n",
                "            self._init_c_logits()\n",
                "            self._init_num_params(X, numerical_cols)\n",
                "            self._init_cat_params(X, categorical_cols)  # Added\n",
                "\n",
                "            self._observe_numerical_features_given_classes(X, y)\n",
                "            self._observe_categorical_features_given_classes(X, y)  # Added\n",
                "        else:\n",
                "            self._get_classes_log_probs(X)\n",
                "\n",
                "    # _guide() from base class\n",
                "\n",
                "    # _init_c_logits() from base class\n",
                "\n",
                "    # _init_num_params() from base class\n",
                "\n",
                "    def _init_cat_params(self, X, categorical_cols):  # Add\n",
                "        self._cat_logits = {\n",
                "            col: pyro.param(\n",
                "                f\"{col}_logits\",\n",
                "                lambda: torch.ones([self._num_cls, len(X[col].cat.categories)]),\n",
                "            )\n",
                "            for col in categorical_cols\n",
                "        }\n",
                "\n",
                "    # _observe_numerical_features_given_classes from base class\n",
                "\n",
                "    def _observe_categorical_features_given_classes(self, X, y):  # Add\n",
                "        for c in range(self._num_cls):\n",
                "            x_c = X[y == c]\n",
                "            with pyro.plate(f\"data-categorical-{c}\", x_c.shape[0]):\n",
                "                for cc, v in self._cat_logits.items():\n",
                "                    pyro.sample(\n",
                "                        f\"x_{cc}|c={c}\",\n",
                "                        dist.Categorical(logits=v[c]),\n",
                "                        obs=torch.tensor(x_c[cc].values),\n",
                "                    )\n",
                "\n",
                "    def _get_log_likelihood(self, X):  # Override\n",
                "        log_lk = []\n",
                "\n",
                "        for c in range(self._num_cls):\n",
                "            lps = []\n",
                "\n",
                "            lps.extend(\n",
                "                [\n",
                "                    dist.Normal(v[\"mu\"][c], v[\"sigma\"][c]).log_prob(\n",
                "                        torch.tensor(X[nc].values)\n",
                "                    )\n",
                "                    for nc, v in self._num_dists.items()\n",
                "                ]\n",
                "            )\n",
                "\n",
                "            # Added\n",
                "            lps.extend(\n",
                "                [\n",
                "                    dist.Categorical(logits=v[c]).log_prob(torch.tensor(X[cc].values))\n",
                "                    for cc, v in self._cat_logits.items()\n",
                "                ]\n",
                "            )\n",
                "            # End Added\n",
                "\n",
                "            log_lk.append(torch.stack(lps).sum(dim=0))\n",
                "\n",
                "        return torch.stack(log_lk).t()\n",
                "\n",
                "    # _get_classes_log_probs() from base class"
            ]
        },
        {
            "cell_type": "markdown",
            "metadata": {},
            "source": [
                "## Zadanie 5 (0.2 + 0.2 + 0.2 pkt)\n",
                "\n",
                "Porównaj jakość działania różnych implementacji Naiwnego Bayesa (`scikit`, `pyro` oraz `pgmpy`)\n"
            ]
        },
        {
            "cell_type": "code",
            "execution_count": 20,
            "metadata": {
                "deletable": false,
                "nbgrader": {
                    "cell_type": "code",
                    "checksum": "019d0ab2583cabc885267a475ebde88e",
                    "grade": true,
                    "grade_id": "cmc-scikit",
                    "locked": false,
                    "points": 0.2,
                    "schema_version": 3,
                    "solution": true,
                    "task": false
                }
            },
            "outputs": [
                {
                    "name": "stdout",
                    "output_type": "stream",
                    "text": [
                        "Scikit-learn - zestaw treningowy:\n",
                        "              precision    recall  f1-score   support\n",
                        "\n",
                        "           0       0.56      0.23      0.33        43\n",
                        "           1       0.23      0.97      0.38        34\n",
                        "           2       1.00      0.01      0.02        83\n",
                        "\n",
                        "    accuracy                           0.28       160\n",
                        "   macro avg       0.60      0.41      0.24       160\n",
                        "weighted avg       0.72      0.28      0.18       160\n",
                        "\n",
                        "Scikit-learn - zestaw testowy:\n",
                        "              precision    recall  f1-score   support\n",
                        "\n",
                        "           0       1.00      0.10      0.18        10\n",
                        "           1       0.24      1.00      0.38         9\n",
                        "           2       1.00      0.05      0.09        21\n",
                        "\n",
                        "    accuracy                           0.28        40\n",
                        "   macro avg       0.75      0.38      0.22        40\n",
                        "weighted avg       0.83      0.28      0.18        40\n",
                        "\n"
                    ]
                }
            ],
            "source": [
                "# Scikit\n",
                "from sklearn.naive_bayes import GaussianNB\n",
                "from sklearn import metrics as sk_mtr\n",
                "\n",
                "clf_scikit = GaussianNB()\n",
                "clf_scikit.fit(cmc[\"train\"][\"X\"], cmc[\"train\"][\"y\"])\n",
                "\n",
                "y_pred_train = clf_scikit.predict(cmc[\"train\"][\"X\"])\n",
                "y_pred_test = clf_scikit.predict(cmc[\"test\"][\"X\"])\n",
                "\n",
                "unique_labels = np.unique(np.concatenate([y_pred_train, y_pred_test]))\n",
                "\n",
                "print(\"Scikit-learn - zestaw treningowy:\")\n",
                "print(\n",
                "    sk_mtr.classification_report(cmc[\"train\"][\"y\"], y_pred_train, labels=unique_labels)\n",
                ")\n",
                "print(\"Scikit-learn - zestaw testowy:\")\n",
                "print(sk_mtr.classification_report(cmc[\"test\"][\"y\"], y_pred_test, labels=unique_labels))\n",
                "\n",
                "sklearn_report = sk_mtr.classification_report(\n",
                "    cmc[\"test\"][\"y\"], y_pred_test, output_dict=True\n",
                ")"
            ]
        },
        {
            "cell_type": "code",
            "execution_count": 21,
            "metadata": {
                "deletable": false,
                "nbgrader": {
                    "cell_type": "code",
                    "checksum": "3b41d15e0077afcae143499186f7d675",
                    "grade": true,
                    "grade_id": "cmc-pyro",
                    "locked": false,
                    "points": 0.2,
                    "schema_version": 3,
                    "solution": true,
                    "task": false
                }
            },
            "outputs": [
                {
                    "name": "stderr",
                    "output_type": "stream",
                    "text": [
                        "  0%|          | 0/1000 [00:00<?, ?it/s]"
                    ]
                },
                {
                    "name": "stdout",
                    "output_type": "stream",
                    "text": [
                        "Epoch: 0 Loss = 93060.999\n"
                    ]
                },
                {
                    "name": "stderr",
                    "output_type": "stream",
                    "text": [
                        " 11%|█         | 110/1000 [00:02<00:20, 43.52it/s]"
                    ]
                },
                {
                    "name": "stdout",
                    "output_type": "stream",
                    "text": [
                        "Epoch: 100 Loss = 21740.088\n"
                    ]
                },
                {
                    "name": "stderr",
                    "output_type": "stream",
                    "text": [
                        " 21%|██        | 210/1000 [00:05<00:17, 44.26it/s]"
                    ]
                },
                {
                    "name": "stdout",
                    "output_type": "stream",
                    "text": [
                        "Epoch: 200 Loss = 10980.854\n"
                    ]
                },
                {
                    "name": "stderr",
                    "output_type": "stream",
                    "text": [
                        " 30%|███       | 305/1000 [00:07<00:16, 42.07it/s]"
                    ]
                },
                {
                    "name": "stdout",
                    "output_type": "stream",
                    "text": [
                        "Epoch: 300 Loss = 7256.959\n"
                    ]
                },
                {
                    "name": "stderr",
                    "output_type": "stream",
                    "text": [
                        " 40%|████      | 405/1000 [00:09<00:13, 43.66it/s]"
                    ]
                },
                {
                    "name": "stdout",
                    "output_type": "stream",
                    "text": [
                        "Epoch: 400 Loss = 5484.390\n"
                    ]
                },
                {
                    "name": "stderr",
                    "output_type": "stream",
                    "text": [
                        " 50%|█████     | 505/1000 [00:11<00:11, 43.72it/s]"
                    ]
                },
                {
                    "name": "stdout",
                    "output_type": "stream",
                    "text": [
                        "Epoch: 500 Loss = 4486.764\n"
                    ]
                },
                {
                    "name": "stderr",
                    "output_type": "stream",
                    "text": [
                        " 61%|██████    | 610/1000 [00:14<00:08, 44.00it/s]"
                    ]
                },
                {
                    "name": "stdout",
                    "output_type": "stream",
                    "text": [
                        "Epoch: 600 Loss = 3863.327\n"
                    ]
                },
                {
                    "name": "stderr",
                    "output_type": "stream",
                    "text": [
                        " 71%|███████   | 710/1000 [00:16<00:06, 44.64it/s]"
                    ]
                },
                {
                    "name": "stdout",
                    "output_type": "stream",
                    "text": [
                        "Epoch: 700 Loss = 3444.901\n"
                    ]
                },
                {
                    "name": "stderr",
                    "output_type": "stream",
                    "text": [
                        " 80%|████████  | 805/1000 [00:18<00:04, 43.91it/s]"
                    ]
                },
                {
                    "name": "stdout",
                    "output_type": "stream",
                    "text": [
                        "Epoch: 800 Loss = 3149.377\n"
                    ]
                },
                {
                    "name": "stderr",
                    "output_type": "stream",
                    "text": [
                        " 90%|█████████ | 905/1000 [00:20<00:02, 42.50it/s]"
                    ]
                },
                {
                    "name": "stdout",
                    "output_type": "stream",
                    "text": [
                        "Epoch: 900 Loss = 2932.736\n"
                    ]
                },
                {
                    "name": "stderr",
                    "output_type": "stream",
                    "text": [
                        "100%|██████████| 1000/1000 [00:23<00:00, 42.80it/s]\n"
                    ]
                },
                {
                    "name": "stdout",
                    "output_type": "stream",
                    "text": [
                        "Pyro - zestaw treningowy:\n",
                        "              precision    recall  f1-score   support\n",
                        "\n",
                        "           0       0.51      0.56      0.53        43\n",
                        "           1       0.30      0.76      0.43        34\n",
                        "           2       0.68      0.20      0.31        83\n",
                        "\n",
                        "    accuracy                           0.42       160\n",
                        "   macro avg       0.50      0.51      0.42       160\n",
                        "weighted avg       0.55      0.42      0.40       160\n",
                        "\n",
                        "Pyro - zestaw testowy:\n",
                        "              precision    recall  f1-score   support\n",
                        "\n",
                        "           0       0.44      0.40      0.42        10\n",
                        "           1       0.28      0.78      0.41         9\n",
                        "           2       0.67      0.19      0.30        21\n",
                        "\n",
                        "    accuracy                           0.38        40\n",
                        "   macro avg       0.46      0.46      0.38        40\n",
                        "weighted avg       0.52      0.38      0.35        40\n",
                        "\n"
                    ]
                }
            ],
            "source": [
                "# Pyro\n",
                "# Dopasowanie modelu\n",
                "clf_pyro = FullNBClassifier(num_epochs=1000)\n",
                "clf_pyro.fit(X=cmc[\"train\"][\"X\"], y=cmc[\"train\"][\"y\"])\n",
                "\n",
                "# Dokonanie predykcji\n",
                "y_pred_train = clf_pyro.predict(X=cmc[\"train\"][\"X\"])\n",
                "y_pred_test = clf_pyro.predict(X=cmc[\"test\"][\"X\"])\n",
                "\n",
                "# Ocena modelu\n",
                "print(\"Pyro - zestaw treningowy:\")\n",
                "print(sk_mtr.classification_report(cmc[\"train\"][\"y\"], y_pred_train))\n",
                "print(\"Pyro - zestaw testowy:\")\n",
                "print(sk_mtr.classification_report(cmc[\"test\"][\"y\"], y_pred_test))\n",
                "\n",
                "pyro_report = sk_mtr.classification_report(\n",
                "    cmc[\"test\"][\"y\"], y_pred_test, output_dict=True\n",
                ")"
            ]
        },
        {
            "cell_type": "code",
            "execution_count": 22,
            "metadata": {
                "deletable": false,
                "nbgrader": {
                    "cell_type": "code",
                    "checksum": "bd4fdb119913e9e8e594aa5c45300144",
                    "grade": true,
                    "grade_id": "cmc-pgmpy",
                    "locked": false,
                    "points": 0.2,
                    "schema_version": 3,
                    "solution": true,
                    "task": false
                }
            },
            "outputs": [
                {
                    "name": "stderr",
                    "output_type": "stream",
                    "text": [
                        "data.groupby([variable] + parents).size().unstack(parents)\n",
                        "Finding Elimination Order: : : 0it [00:00, ?it/s]\n",
                        "0it [00:00, ?it/s]\n",
                        "Finding Elimination Order: : : 0it [00:00, ?it/s]\n",
                        "0it [00:00, ?it/s]\n",
                        "Finding Elimination Order: : : 0it [00:00, ?it/s]\n",
                        "0it [00:00, ?it/s]\n",
                        "Finding Elimination Order: : : 0it [00:00, ?it/s]\n",
                        "0it [00:00, ?it/s]\n",
                        "Finding Elimination Order: : : 0it [00:00, ?it/s]\n",
                        "0it [00:00, ?it/s]\n",
                        "Finding Elimination Order: : : 0it [00:00, ?it/s]\n",
                        "0it [00:00, ?it/s]\n",
                        "Finding Elimination Order: : : 0it [00:00, ?it/s]\n",
                        "0it [00:00, ?it/s]\n",
                        "Finding Elimination Order: : : 0it [00:00, ?it/s]\n",
                        "0it [00:00, ?it/s]\n",
                        "Finding Elimination Order: : : 0it [00:00, ?it/s]\n",
                        "0it [00:00, ?it/s]\n",
                        "Finding Elimination Order: : : 0it [00:00, ?it/s]\n",
                        "0it [00:00, ?it/s]\n",
                        "Finding Elimination Order: : : 0it [00:00, ?it/s]\n",
                        "0it [00:00, ?it/s]\n",
                        "Finding Elimination Order: : : 0it [00:00, ?it/s]\n",
                        "0it [00:00, ?it/s]\n",
                        "Finding Elimination Order: : : 0it [00:00, ?it/s]\n",
                        "0it [00:00, ?it/s]\n",
                        "Finding Elimination Order: : : 0it [00:00, ?it/s]\n",
                        "0it [00:00, ?it/s]\n",
                        "Finding Elimination Order: : : 0it [00:00, ?it/s]\n",
                        "0it [00:00, ?it/s]\n",
                        "Finding Elimination Order: : : 0it [00:00, ?it/s]\n",
                        "0it [00:00, ?it/s]\n",
                        "Finding Elimination Order: : : 0it [00:00, ?it/s]\n",
                        "0it [00:00, ?it/s]\n",
                        "Finding Elimination Order: : : 0it [00:00, ?it/s]\n",
                        "0it [00:00, ?it/s]\n",
                        "Finding Elimination Order: : : 0it [00:00, ?it/s]\n",
                        "0it [00:00, ?it/s]\n",
                        "Finding Elimination Order: : : 0it [00:00, ?it/s]\n",
                        "0it [00:00, ?it/s]\n",
                        "Finding Elimination Order: : : 0it [00:00, ?it/s]\n",
                        "0it [00:00, ?it/s]\n",
                        "Finding Elimination Order: : : 0it [00:00, ?it/s]\n",
                        "0it [00:00, ?it/s]\n",
                        "Finding Elimination Order: : : 0it [00:00, ?it/s]\n",
                        "0it [00:00, ?it/s]\n",
                        "Finding Elimination Order: : : 0it [00:00, ?it/s]\n",
                        "0it [00:00, ?it/s]\n",
                        "Finding Elimination Order: : : 0it [00:00, ?it/s]\n",
                        "0it [00:00, ?it/s]\n",
                        "Finding Elimination Order: : : 0it [00:00, ?it/s]\n",
                        "0it [00:00, ?it/s]\n",
                        "Finding Elimination Order: : : 0it [00:00, ?it/s]\n",
                        "0it [00:00, ?it/s]\n",
                        "Finding Elimination Order: : : 0it [00:00, ?it/s]\n",
                        "0it [00:00, ?it/s]\n",
                        "Finding Elimination Order: : : 0it [00:00, ?it/s]\n",
                        "0it [00:00, ?it/s]\n",
                        "Finding Elimination Order: : : 0it [00:00, ?it/s]\n",
                        "0it [00:00, ?it/s]\n",
                        "Finding Elimination Order: : : 0it [00:00, ?it/s]\n",
                        "0it [00:00, ?it/s]\n",
                        "Finding Elimination Order: : : 0it [00:00, ?it/s]\n",
                        "0it [00:00, ?it/s]\n",
                        "Finding Elimination Order: : : 0it [00:00, ?it/s]\n",
                        "0it [00:00, ?it/s]\n",
                        "Finding Elimination Order: : : 0it [00:00, ?it/s]\n",
                        "0it [00:00, ?it/s]\n",
                        "Finding Elimination Order: : : 0it [00:00, ?it/s]\n",
                        "0it [00:00, ?it/s]\n",
                        "Finding Elimination Order: : : 0it [00:00, ?it/s]\n",
                        "0it [00:00, ?it/s]\n",
                        "Finding Elimination Order: : : 0it [00:00, ?it/s]\n",
                        "0it [00:00, ?it/s]\n",
                        "Finding Elimination Order: : : 0it [00:00, ?it/s]\n",
                        "0it [00:00, ?it/s]\n",
                        "Finding Elimination Order: : : 0it [00:00, ?it/s]\n",
                        "0it [00:00, ?it/s]\n",
                        "Finding Elimination Order: : : 0it [00:00, ?it/s]\n",
                        "0it [00:00, ?it/s]\n",
                        "Finding Elimination Order: : : 0it [00:00, ?it/s]\n",
                        "0it [00:00, ?it/s]\n",
                        "Finding Elimination Order: : : 0it [00:00, ?it/s]\n",
                        "0it [00:00, ?it/s]\n",
                        "Finding Elimination Order: : : 0it [00:00, ?it/s]\n",
                        "0it [00:00, ?it/s]\n",
                        "Finding Elimination Order: : : 0it [00:00, ?it/s]\n",
                        "0it [00:00, ?it/s]\n",
                        "Finding Elimination Order: : : 0it [00:00, ?it/s]\n",
                        "0it [00:00, ?it/s]\n",
                        "Finding Elimination Order: : : 0it [00:00, ?it/s]\n",
                        "0it [00:00, ?it/s]\n",
                        "Finding Elimination Order: : : 0it [00:00, ?it/s]\n",
                        "0it [00:00, ?it/s]\n",
                        "Finding Elimination Order: : : 0it [00:00, ?it/s]\n",
                        "0it [00:00, ?it/s]\n",
                        "Finding Elimination Order: : : 0it [00:00, ?it/s]\n",
                        "0it [00:00, ?it/s]\n",
                        "Finding Elimination Order: : : 0it [00:00, ?it/s]\n",
                        "0it [00:00, ?it/s]\n",
                        "Finding Elimination Order: : : 0it [00:00, ?it/s]\n",
                        "0it [00:00, ?it/s]\n",
                        "Finding Elimination Order: : : 0it [00:00, ?it/s]\n",
                        "0it [00:00, ?it/s]\n",
                        "Finding Elimination Order: : : 0it [00:00, ?it/s]\n",
                        "0it [00:00, ?it/s]\n",
                        "Finding Elimination Order: : : 0it [00:00, ?it/s]\n",
                        "0it [00:00, ?it/s]\n",
                        "Finding Elimination Order: : : 0it [00:00, ?it/s]\n",
                        "0it [00:00, ?it/s]\n",
                        "Finding Elimination Order: : : 0it [00:00, ?it/s]\n",
                        "0it [00:00, ?it/s]\n",
                        "Finding Elimination Order: : : 0it [00:00, ?it/s]\n",
                        "0it [00:00, ?it/s]\n",
                        "Finding Elimination Order: : : 0it [00:00, ?it/s]\n",
                        "0it [00:00, ?it/s]\n",
                        "Finding Elimination Order: : : 0it [00:00, ?it/s]\n",
                        "0it [00:00, ?it/s]\n",
                        "Finding Elimination Order: : : 0it [00:00, ?it/s]\n",
                        "0it [00:00, ?it/s]\n",
                        "Finding Elimination Order: : : 0it [00:00, ?it/s]\n",
                        "0it [00:00, ?it/s]\n",
                        "Finding Elimination Order: : : 0it [00:00, ?it/s]\n",
                        "0it [00:00, ?it/s]\n",
                        "Finding Elimination Order: : : 0it [00:00, ?it/s]\n",
                        "0it [00:00, ?it/s]\n",
                        "Finding Elimination Order: : : 0it [00:00, ?it/s]\n",
                        "0it [00:00, ?it/s]\n",
                        "Finding Elimination Order: : : 0it [00:00, ?it/s]\n",
                        "0it [00:00, ?it/s]\n",
                        "Finding Elimination Order: : : 0it [00:00, ?it/s]\n",
                        "0it [00:00, ?it/s]\n",
                        "Finding Elimination Order: : : 0it [00:00, ?it/s]\n",
                        "0it [00:00, ?it/s]\n",
                        "Finding Elimination Order: : : 0it [00:00, ?it/s]\n",
                        "0it [00:00, ?it/s]\n",
                        "Finding Elimination Order: : : 0it [00:00, ?it/s]\n",
                        "0it [00:00, ?it/s]\n",
                        "Finding Elimination Order: : : 0it [00:00, ?it/s]\n",
                        "0it [00:00, ?it/s]\n",
                        "Finding Elimination Order: : : 0it [00:00, ?it/s]\n",
                        "0it [00:00, ?it/s]\n",
                        "Finding Elimination Order: : : 0it [00:00, ?it/s]\n",
                        "0it [00:00, ?it/s]\n",
                        "Finding Elimination Order: : : 0it [00:00, ?it/s]\n",
                        "0it [00:00, ?it/s]\n",
                        "Finding Elimination Order: : : 0it [00:00, ?it/s]\n",
                        "0it [00:00, ?it/s]\n",
                        "Finding Elimination Order: : : 0it [00:00, ?it/s]\n",
                        "0it [00:00, ?it/s]\n",
                        "Finding Elimination Order: : : 0it [00:00, ?it/s]\n",
                        "0it [00:00, ?it/s]\n",
                        "Finding Elimination Order: : : 0it [00:00, ?it/s]\n",
                        "0it [00:00, ?it/s]\n",
                        "Finding Elimination Order: : : 0it [00:00, ?it/s]\n",
                        "0it [00:00, ?it/s]\n",
                        "Finding Elimination Order: : : 0it [00:00, ?it/s]\n",
                        "0it [00:00, ?it/s]\n",
                        "Finding Elimination Order: : : 0it [00:00, ?it/s]\n",
                        "0it [00:00, ?it/s]\n",
                        "Finding Elimination Order: : : 0it [00:00, ?it/s]\n",
                        "0it [00:00, ?it/s]\n",
                        "Finding Elimination Order: : : 0it [00:00, ?it/s]\n",
                        "0it [00:00, ?it/s]\n",
                        "Finding Elimination Order: : : 0it [00:00, ?it/s]\n",
                        "0it [00:00, ?it/s]\n",
                        "Finding Elimination Order: : : 0it [00:00, ?it/s]\n",
                        "0it [00:00, ?it/s]\n",
                        "Finding Elimination Order: : : 0it [00:00, ?it/s]\n",
                        "0it [00:00, ?it/s]\n",
                        "Finding Elimination Order: : : 0it [00:00, ?it/s]\n",
                        "0it [00:00, ?it/s]\n",
                        "Finding Elimination Order: : : 0it [00:00, ?it/s]\n",
                        "0it [00:00, ?it/s]\n",
                        "Finding Elimination Order: : : 0it [00:00, ?it/s]\n",
                        "0it [00:00, ?it/s]\n",
                        "Finding Elimination Order: : : 0it [00:00, ?it/s]\n",
                        "0it [00:00, ?it/s]\n",
                        "Finding Elimination Order: : : 0it [00:00, ?it/s]\n",
                        "0it [00:00, ?it/s]\n",
                        "Finding Elimination Order: : : 0it [00:00, ?it/s]\n",
                        "0it [00:00, ?it/s]\n",
                        "Finding Elimination Order: : : 0it [00:00, ?it/s]\n",
                        "0it [00:00, ?it/s]\n",
                        "Finding Elimination Order: : : 0it [00:00, ?it/s]\n",
                        "0it [00:00, ?it/s]\n",
                        "Finding Elimination Order: : : 0it [00:00, ?it/s]\n",
                        "0it [00:00, ?it/s]\n",
                        "Finding Elimination Order: : : 0it [00:00, ?it/s]\n",
                        "0it [00:00, ?it/s]\n",
                        "Finding Elimination Order: : : 0it [00:00, ?it/s]\n",
                        "0it [00:00, ?it/s]\n",
                        "Finding Elimination Order: : : 0it [00:00, ?it/s]\n",
                        "0it [00:00, ?it/s]\n",
                        "Finding Elimination Order: : : 0it [00:00, ?it/s]\n",
                        "0it [00:00, ?it/s]\n",
                        "Finding Elimination Order: : : 0it [00:00, ?it/s]\n",
                        "0it [00:00, ?it/s]\n",
                        "Finding Elimination Order: : : 0it [00:00, ?it/s]\n",
                        "0it [00:00, ?it/s]\n",
                        "Finding Elimination Order: : : 0it [00:00, ?it/s]\n",
                        "0it [00:00, ?it/s]\n",
                        "Finding Elimination Order: : : 0it [00:00, ?it/s]\n",
                        "0it [00:00, ?it/s]\n",
                        "Finding Elimination Order: : : 0it [00:00, ?it/s]\n",
                        "0it [00:00, ?it/s]\n",
                        "Finding Elimination Order: : : 0it [00:00, ?it/s]\n",
                        "0it [00:00, ?it/s]\n",
                        "Finding Elimination Order: : : 0it [00:00, ?it/s]\n",
                        "0it [00:00, ?it/s]\n",
                        "Finding Elimination Order: : : 0it [00:00, ?it/s]\n",
                        "0it [00:00, ?it/s]\n",
                        "Finding Elimination Order: : : 0it [00:00, ?it/s]\n",
                        "0it [00:00, ?it/s]\n",
                        "Finding Elimination Order: : : 0it [00:00, ?it/s]\n",
                        "0it [00:00, ?it/s]\n",
                        "Finding Elimination Order: : : 0it [00:00, ?it/s]\n",
                        "0it [00:00, ?it/s]\n",
                        "Finding Elimination Order: : : 0it [00:00, ?it/s]\n",
                        "0it [00:00, ?it/s]\n",
                        "Finding Elimination Order: : : 0it [00:00, ?it/s]\n",
                        "0it [00:00, ?it/s]\n",
                        "Finding Elimination Order: : : 0it [00:00, ?it/s]\n",
                        "0it [00:00, ?it/s]\n",
                        "Finding Elimination Order: : : 0it [00:00, ?it/s]\n",
                        "0it [00:00, ?it/s]\n",
                        "Finding Elimination Order: : : 0it [00:00, ?it/s]\n",
                        "0it [00:00, ?it/s]\n",
                        "Finding Elimination Order: : : 0it [00:00, ?it/s]\n",
                        "0it [00:00, ?it/s]\n",
                        "Finding Elimination Order: : : 0it [00:00, ?it/s]\n",
                        "0it [00:00, ?it/s]\n",
                        "Finding Elimination Order: : : 0it [00:00, ?it/s]\n",
                        "0it [00:00, ?it/s]\n",
                        "Finding Elimination Order: : : 0it [00:00, ?it/s]\n",
                        "0it [00:00, ?it/s]\n",
                        "Finding Elimination Order: : : 0it [00:00, ?it/s]\n",
                        "0it [00:00, ?it/s]\n",
                        "Finding Elimination Order: : : 0it [00:00, ?it/s]\n",
                        "0it [00:00, ?it/s]\n",
                        "Finding Elimination Order: : : 0it [00:00, ?it/s]\n",
                        "0it [00:00, ?it/s]\n",
                        "Finding Elimination Order: : : 0it [00:00, ?it/s]\n",
                        "0it [00:00, ?it/s]\n",
                        "Finding Elimination Order: : : 0it [00:00, ?it/s]\n",
                        "0it [00:00, ?it/s]\n",
                        "Finding Elimination Order: : : 0it [00:00, ?it/s]\n",
                        "0it [00:00, ?it/s]\n",
                        "Finding Elimination Order: : : 0it [00:00, ?it/s]\n",
                        "0it [00:00, ?it/s]\n",
                        "Finding Elimination Order: : : 0it [00:00, ?it/s]\n",
                        "0it [00:00, ?it/s]\n",
                        "Finding Elimination Order: : : 0it [00:00, ?it/s]\n",
                        "0it [00:00, ?it/s]\n",
                        "Finding Elimination Order: : : 0it [00:00, ?it/s]\n",
                        "0it [00:00, ?it/s]\n",
                        "Finding Elimination Order: : : 0it [00:00, ?it/s]\n",
                        "0it [00:00, ?it/s]\n",
                        "Finding Elimination Order: : : 0it [00:00, ?it/s]\n",
                        "0it [00:00, ?it/s]\n",
                        "Finding Elimination Order: : : 0it [00:00, ?it/s]\n",
                        "0it [00:00, ?it/s]\n",
                        "Finding Elimination Order: : : 0it [00:00, ?it/s]\n",
                        "0it [00:00, ?it/s]\n",
                        "Finding Elimination Order: : : 0it [00:00, ?it/s]\n",
                        "0it [00:00, ?it/s]\n",
                        "Finding Elimination Order: : : 0it [00:00, ?it/s]\n",
                        "0it [00:00, ?it/s]\n",
                        "Finding Elimination Order: : : 0it [00:00, ?it/s]\n",
                        "0it [00:00, ?it/s]\n",
                        "Finding Elimination Order: : : 0it [00:00, ?it/s]\n",
                        "0it [00:00, ?it/s]\n",
                        "Finding Elimination Order: : : 0it [00:00, ?it/s]\n",
                        "0it [00:00, ?it/s]\n",
                        "Finding Elimination Order: : : 0it [00:00, ?it/s]\n",
                        "0it [00:00, ?it/s]\n",
                        "Finding Elimination Order: : : 0it [00:00, ?it/s]\n",
                        "0it [00:00, ?it/s]\n",
                        "Finding Elimination Order: : : 0it [00:00, ?it/s]\n",
                        "0it [00:00, ?it/s]\n",
                        "Finding Elimination Order: : : 0it [00:00, ?it/s]\n",
                        "0it [00:00, ?it/s]\n",
                        "Finding Elimination Order: : : 0it [00:00, ?it/s]\n",
                        "0it [00:00, ?it/s]\n",
                        "Finding Elimination Order: : : 0it [00:00, ?it/s]\n",
                        "0it [00:00, ?it/s]\n",
                        "Finding Elimination Order: : : 0it [00:00, ?it/s]\n",
                        "0it [00:00, ?it/s]\n",
                        "Finding Elimination Order: : : 0it [00:00, ?it/s]\n",
                        "0it [00:00, ?it/s]\n",
                        "Finding Elimination Order: : : 0it [00:00, ?it/s]\n",
                        "0it [00:00, ?it/s]\n",
                        "Finding Elimination Order: : : 0it [00:00, ?it/s]\n",
                        "0it [00:00, ?it/s]\n",
                        "Finding Elimination Order: : : 0it [00:00, ?it/s]\n",
                        "0it [00:00, ?it/s]\n",
                        "Finding Elimination Order: : : 0it [00:00, ?it/s]\n",
                        "0it [00:00, ?it/s]\n",
                        "Finding Elimination Order: : : 0it [00:00, ?it/s]\n",
                        "0it [00:00, ?it/s]\n",
                        "Finding Elimination Order: : : 0it [00:00, ?it/s]\n",
                        "0it [00:00, ?it/s]\n",
                        "Finding Elimination Order: : : 0it [00:00, ?it/s]\n",
                        "0it [00:00, ?it/s]\n",
                        "Finding Elimination Order: : : 0it [00:00, ?it/s]\n",
                        "0it [00:00, ?it/s]\n",
                        "Finding Elimination Order: : : 0it [00:00, ?it/s]\n",
                        "0it [00:00, ?it/s]\n",
                        "Finding Elimination Order: : : 0it [00:00, ?it/s]\n",
                        "0it [00:00, ?it/s]\n",
                        "Finding Elimination Order: : : 0it [00:00, ?it/s]\n",
                        "0it [00:00, ?it/s]\n",
                        "Finding Elimination Order: : : 0it [00:00, ?it/s]\n",
                        "0it [00:00, ?it/s]\n",
                        "Finding Elimination Order: : : 0it [00:00, ?it/s]\n",
                        "0it [00:00, ?it/s]\n",
                        "Finding Elimination Order: : : 0it [00:00, ?it/s]\n",
                        "0it [00:00, ?it/s]\n",
                        "Finding Elimination Order: : : 0it [00:00, ?it/s]\n",
                        "0it [00:00, ?it/s]\n",
                        "Finding Elimination Order: : : 0it [00:00, ?it/s]\n",
                        "0it [00:00, ?it/s]\n",
                        "Finding Elimination Order: : : 0it [00:00, ?it/s]\n",
                        "0it [00:00, ?it/s]\n",
                        "Finding Elimination Order: : : 0it [00:00, ?it/s]\n",
                        "0it [00:00, ?it/s]\n",
                        "Finding Elimination Order: : : 0it [00:00, ?it/s]\n",
                        "0it [00:00, ?it/s]\n",
                        "Finding Elimination Order: : : 0it [00:00, ?it/s]\n",
                        "0it [00:00, ?it/s]\n",
                        "Finding Elimination Order: : : 0it [00:00, ?it/s]\n",
                        "0it [00:00, ?it/s]\n",
                        "Finding Elimination Order: : : 0it [00:00, ?it/s]\n",
                        "0it [00:00, ?it/s]\n",
                        "Finding Elimination Order: : : 0it [00:00, ?it/s]\n",
                        "0it [00:00, ?it/s]\n",
                        "Finding Elimination Order: : : 0it [00:00, ?it/s]\n",
                        "0it [00:00, ?it/s]\n",
                        "Finding Elimination Order: : : 0it [00:00, ?it/s]\n",
                        "0it [00:00, ?it/s]\n",
                        "Finding Elimination Order: : : 0it [00:00, ?it/s]\n",
                        "0it [00:00, ?it/s]\n",
                        "Finding Elimination Order: : : 0it [00:00, ?it/s]\n",
                        "0it [00:00, ?it/s]\n",
                        "Finding Elimination Order: : : 0it [00:00, ?it/s]\n",
                        "0it [00:00, ?it/s]\n",
                        "Finding Elimination Order: : : 0it [00:00, ?it/s]\n",
                        "0it [00:00, ?it/s]\n",
                        "Finding Elimination Order: : : 0it [00:00, ?it/s]\n",
                        "0it [00:00, ?it/s]\n",
                        "Finding Elimination Order: : : 0it [00:00, ?it/s]\n",
                        "0it [00:00, ?it/s]\n",
                        "Finding Elimination Order: : : 0it [00:00, ?it/s]\n",
                        "0it [00:00, ?it/s]\n",
                        "Finding Elimination Order: : : 0it [00:00, ?it/s]\n",
                        "0it [00:00, ?it/s]\n",
                        "Finding Elimination Order: : : 0it [00:00, ?it/s]\n",
                        "0it [00:00, ?it/s]\n",
                        "Finding Elimination Order: : : 0it [00:00, ?it/s]\n",
                        "0it [00:00, ?it/s]\n",
                        "Finding Elimination Order: : : 0it [00:00, ?it/s]\n",
                        "0it [00:00, ?it/s]\n",
                        "Finding Elimination Order: : : 0it [00:00, ?it/s]\n",
                        "0it [00:00, ?it/s]\n",
                        "Finding Elimination Order: : : 0it [00:00, ?it/s]\n",
                        "0it [00:00, ?it/s]\n",
                        "Finding Elimination Order: : : 0it [00:00, ?it/s]\n",
                        "0it [00:00, ?it/s]\n",
                        "Finding Elimination Order: : : 0it [00:00, ?it/s]\n",
                        "0it [00:00, ?it/s]\n",
                        "Finding Elimination Order: : : 0it [00:00, ?it/s]\n",
                        "0it [00:00, ?it/s]\n",
                        "Finding Elimination Order: : : 0it [00:00, ?it/s]\n",
                        "0it [00:00, ?it/s]\n",
                        "Finding Elimination Order: : : 0it [00:00, ?it/s]\n",
                        "0it [00:00, ?it/s]\n",
                        "Finding Elimination Order: : : 0it [00:00, ?it/s]\n",
                        "0it [00:00, ?it/s]\n",
                        "Finding Elimination Order: : : 0it [00:00, ?it/s]\n",
                        "0it [00:00, ?it/s]\n",
                        "Finding Elimination Order: : : 0it [00:00, ?it/s]\n",
                        "0it [00:00, ?it/s]\n",
                        "Finding Elimination Order: : : 0it [00:00, ?it/s]\n",
                        "0it [00:00, ?it/s]\n",
                        "Finding Elimination Order: : : 0it [00:00, ?it/s]\n",
                        "0it [00:00, ?it/s]\n",
                        "Finding Elimination Order: : : 0it [00:00, ?it/s]\n",
                        "0it [00:00, ?it/s]\n",
                        "Finding Elimination Order: : : 0it [00:00, ?it/s]\n",
                        "0it [00:00, ?it/s]\n",
                        "Finding Elimination Order: : : 0it [00:00, ?it/s]\n",
                        "0it [00:00, ?it/s]\n",
                        "Finding Elimination Order: : : 0it [00:00, ?it/s]\n",
                        "0it [00:00, ?it/s]\n",
                        "Finding Elimination Order: : : 0it [00:00, ?it/s]\n",
                        "0it [00:00, ?it/s]\n",
                        "Finding Elimination Order: : : 0it [00:00, ?it/s]\n",
                        "0it [00:00, ?it/s]\n",
                        "Finding Elimination Order: : : 0it [00:00, ?it/s]\n",
                        "0it [00:00, ?it/s]\n"
                    ]
                },
                {
                    "name": "stdout",
                    "output_type": "stream",
                    "text": [
                        "Pgmpy - zestaw treningowy:\n",
                        "              precision    recall  f1-score   support\n",
                        "\n",
                        "           0       0.68      0.49      0.57        43\n",
                        "           1       0.56      0.44      0.49        34\n",
                        "           2       0.66      0.81      0.72        83\n",
                        "\n",
                        "    accuracy                           0.64       160\n",
                        "   macro avg       0.63      0.58      0.59       160\n",
                        "weighted avg       0.64      0.64      0.63       160\n",
                        "\n",
                        "Pgmpy - zestaw testowy:\n",
                        "              precision    recall  f1-score   support\n",
                        "\n",
                        "           0       0.33      0.20      0.25        10\n",
                        "           1       0.60      0.33      0.43         9\n",
                        "           2       0.55      0.76      0.64        21\n",
                        "\n",
                        "    accuracy                           0.53        40\n",
                        "   macro avg       0.50      0.43      0.44        40\n",
                        "weighted avg       0.51      0.53      0.49        40\n",
                        "\n"
                    ]
                }
            ],
            "source": [
                "# Pgmpy\n",
                "cmc_discrete = discretize_data(dataset=cmc, n_bins=5)\n",
                "clf_pgmpy = build_model(dataset=cmc_discrete)\n",
                "clf_pgmpy = fit_model(model=clf_pgmpy, training_data=cmc_discrete[\"train\"])\n",
                "\n",
                "# Dokonanie predykcji\n",
                "y_pred_train = predict_pgmpy(model=clf_pgmpy, X=cmc_discrete[\"train\"][\"X\"])\n",
                "y_pred_test = predict_pgmpy(model=clf_pgmpy, X=cmc_discrete[\"test\"][\"X\"])\n",
                "\n",
                "# Ocena modelu\n",
                "print(\"Pgmpy - zestaw treningowy:\")\n",
                "print(sk_mtr.classification_report(cmc_discrete[\"train\"][\"y\"], y_pred_train))\n",
                "print(\"Pgmpy - zestaw testowy:\")\n",
                "print(sk_mtr.classification_report(cmc_discrete[\"test\"][\"y\"], y_pred_test))\n",
                "\n",
                "pgmpy_report = sk_mtr.classification_report(\n",
                "    cmc_discrete[\"test\"][\"y\"], y_pred_test, output_dict=True\n",
                ")"
            ]
        },
        {
            "cell_type": "code",
            "execution_count": 23,
            "metadata": {},
            "outputs": [
                {
                    "data": {
                        "image/png": "[encoded data removed]",
                        "text/plain": [
                            "<Figure size 1200x1500 with 3 Axes>"
                        ]
                    },
                    "metadata": {},
                    "output_type": "display_data"
                }
            ],
            "source": [
                "# Compare reports\n",
                "def compare_classification_reports(*reports, titles, num_classes):\n",
                "    \"\"\"\n",
                "    Compares multiple classification reports for a given number of classes.\n",
                "\n",
                "    Parameters:\n",
                "    - reports: Variable length argument list of classification report dictionaries.\n",
                "    - titles: Titles for each report for legend labeling.\n",
                "    - num_classes: Number of classes to compare.\n",
                "    \"\"\"\n",
                "    assert len(reports) == len(titles), \"Each report must have a corresponding title.\"\n",
                "    assert num_classes > 0, \"Number of classes must be positive.\"\n",
                "\n",
                "    labels = [\"Precision\", \"Recall\", \"F1-score\"]\n",
                "    x = np.arange(len(labels))\n",
                "    width = 0.8 / len(reports)\n",
                "\n",
                "    fig, ax = plt.subplots(num_classes, 1, figsize=(12, 5 * num_classes), sharex=True)\n",
                "\n",
                "    for i, (report, title) in enumerate(zip(reports, titles)):\n",
                "        offsets = np.arange(-width * len(reports) / 2, width * len(reports) / 2, width)\n",
                "\n",
                "        for class_idx in range(num_classes):\n",
                "            class_metrics = [\n",
                "                report[str(class_idx)][\"precision\"],\n",
                "                report[str(class_idx)][\"recall\"],\n",
                "                report[str(class_idx)][\"f1-score\"],\n",
                "            ]\n",
                "\n",
                "            if num_classes == 1:\n",
                "                ax.bar(x + offsets[i], class_metrics, width, label=title)\n",
                "            else:\n",
                "                ax[class_idx].bar(x + offsets[i], class_metrics, width, label=title)\n",
                "\n",
                "    for class_idx in range(num_classes):\n",
                "        if num_classes == 1:\n",
                "            ax.set_ylabel(\"Scores\")\n",
                "            ax.set_title(f\"Class {class_idx} Metrics Comparison\")\n",
                "            ax.set_xticks(x)\n",
                "            ax.set_xticklabels(labels)\n",
                "            ax.legend()\n",
                "        else:\n",
                "            ax[class_idx].set_ylabel(\"Scores\")\n",
                "            ax[class_idx].set_title(f\"Class {class_idx} Metrics Comparison\")\n",
                "            ax[class_idx].set_xticks(x)\n",
                "            ax[class_idx].set_xticklabels(labels)\n",
                "            ax[class_idx].legend()\n",
                "\n",
                "    fig.tight_layout()\n",
                "    plt.show()\n",
                "\n",
                "\n",
                "compare_classification_reports(\n",
                "    pyro_report,\n",
                "    sklearn_report,\n",
                "    pgmpy_report,\n",
                "    titles=[\"Pyro\", \"Scikit-learn\", \"Pgmpy\"],\n",
                "    num_classes=3,\n",
                ")"
            ]
        }
    ],
    "metadata": {
        "kernelspec": {
            "display_name": "Python 3",
            "language": "python",
            "name": "python3"
        },
        "language_info": {
            "codemirror_mode": {
                "name": "ipython",
                "version": 3
            },
            "file_extension": ".py",
            "mimetype": "text/x-python",
            "name": "python",
            "nbconvert_exporter": "python",
            "pygments_lexer": "ipython3",
            "version": "3.12.0"
        }
    },
    "nbformat": 4,
    "nbformat_minor": 4
}
